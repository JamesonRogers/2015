{
 "metadata": {
  "name": "",
  "signature": "sha256:7bb1ca81dfe24f45d6c169c63fe36e5abeabaf1aac0daa3c579cf8024a17a960"
 },
 "nbformat": 3,
 "nbformat_minor": 0,
 "worksheets": [
  {
   "cells": [
    {
     "cell_type": "markdown",
     "metadata": {},
     "source": [
      "# Lecture 6/7: Bayesian Formalism Part II and Markov Chain Monte Carlo\n",
      "AM207: Verena Kaynig-Fittkau,and Pavlos Protopapas, Harvard University\n"
     ]
    },
    {
     "cell_type": "markdown",
     "metadata": {},
     "source": [
      "# Announcements\n",
      "\n",
      "- HW1 is over and being graded\n",
      "- HW2 is out and due on Wednesday \n",
      "\n",
      "- Webpage now has page for lecture materials.\n",
      "- Lab notebooks from 2014 are on github\n",
      "\n",
      "### Final Project Schedule\n",
      "\n",
      "- March 27 -- April 06: Talk to TFs and come up with a proposal\n",
      "- April 7: Proposals are due\n",
      "- April 29: Submit your project notebook/paper (6 pages)\n",
      "- May 4: Submit your poster and screencast (3min), and optional: webpage\n",
      "- May 6: Show off at SEAS Science Fair\n",
      "\n",
      "\n"
     ]
    },
    {
     "cell_type": "code",
     "collapsed": false,
     "input": [
      "%matplotlib inline\n",
      "import numpy as np\n",
      "from scipy import stats\n",
      "from scipy.stats import norm\n",
      "import matplotlib.pyplot as plt\n",
      "import seaborn as sns\n",
      "sns.set_style('white')\n",
      "sns.set_context('paper')"
     ],
     "language": "python",
     "metadata": {},
     "outputs": [],
     "prompt_number": 1
    },
    {
     "cell_type": "markdown",
     "metadata": {},
     "source": [
      "### Example: Markov Chain\n",
      "\n",
      "consider a life insurance company that wants to find out how much money to charge its clients. \n",
      "The company wants to estimate how long the clients will live. It proposes the following model summarizing the state of health of an individual on a monthly basis: healthy, sick and dead with transition graph shown in figure below \n",
      "\n",
      "![markov example](./Lecture06_07_data/Markov_ex1.png)\n",
      "\n",
      "The transition matrix for this example is \n",
      "<div class=\"custom-class\" align=\"center\">\n",
      "$$\\left[ \\begin{array}{ccc}\n",
      "0.69 & 0.3 & 0.01 \\\\\n",
      "0.8 & 0.1 & 0.1 \\\\\n",
      "0 & 0 & 1 \\end{array} \\right] $$\n",
      "</div>\n",
      "If the probability vector for the initial state is $\\mu(x^{(1)}) = (0.5, 0.2, 0.3)$ \n",
      "it follows that $\\mu(x^{(1)})T =  (0.5050, 0.1700, 0.3250)$ and, after several iterations (multiplications by T ), the product will converge to $p(x) =(0.0178,0.0062,0.9760)$ [all dead].\n",
      "No matter what initial distribution we use, the chain will stabilize at $p(x) = (0.0, 0.0, 1.0)$. \n",
      "\n",
      "When initializing each Markov chain, the chain will wander in state space around the\n",
      "starting state. Therefore, if we start a number of chains, each with different initial conditions,\n",
      "the chains will initially be in a state close to the starting state. This period is called the\n",
      "__burnin__. An important property of Markov chains is that the starting state of the chain no\n",
      "longer affects the state of the chain after a sufficiently long sequence of transitions (assuming\n",
      "that certain conditions about the Markov chain are met). At this point, the chain is said\n",
      "to reach its steady state and the states reflect samples from its stationary distribution. This\n",
      "property that Markov chains converge to a stationary distribution regardless of where we\n",
      "started (if certain regularity conditions of the transition function are met), is quite important.\n",
      "When applied to MCMC, it allow us to draw samples from a distribution using a sequential\n",
      "procedure but where the starting state of the sequence does not affect the estimation process."
     ]
    },
    {
     "cell_type": "code",
     "collapsed": false,
     "input": [
      "# Simple example for MARKOV CHAIN\n",
      "\n",
      "# transition matrix\n",
      "#T = np.array([[0.69, 0.3, 0.01],[ 0.8, 0.1, 0.1] ,[ 0,0.1 ,0.9]])\n",
      "T = np.array([[0.69, 0.3, 0.01],[ 0.8, 0.1, 0.1] ,[ 0 , 0 ,1]])\n",
      "\n",
      "# initial state USE RANDOM NUMBERS\n",
      "p = np.random.uniform(low=0,high=1, size=3)\n",
      "# normalize \n",
      "p = p/np.sum(p)\n",
      "\n",
      "# do 100 iterations\n",
      "q=np.zeros((100,3))\n",
      "for i in np.arange(0,100):\n",
      "    #compute probability for each state\n",
      "    q[i, :] = np.dot(p,np.linalg.matrix_power(T,i))\n",
      "\n",
      "plt.plot(q)\n",
      "plt.xlabel('i')\n",
      "plt.legend( ('H', 'S', 'D'))\n",
      "\n"
     ],
     "language": "python",
     "metadata": {},
     "outputs": [
      {
       "metadata": {},
       "output_type": "pyout",
       "prompt_number": 2,
       "text": [
        "<matplotlib.legend.Legend at 0x7e931f0>"
       ]
      },
      {
       "metadata": {},
       "output_type": "display_data",
       "png": "[encoded data removed]",
       "text": [
        "<matplotlib.figure.Figure at 0x7e0e8b0>"
       ]
      }
     ],
     "prompt_number": 2
    },
    {
     "cell_type": "markdown",
     "metadata": {},
     "source": [
      "### Example: Markov Chain Sampling\n",
      "In this example we sample from $p(x) =6x(1-x)$ using the Metropolis algorithm with proposal \n",
      "distribution \n",
      "\n",
      "$$x^* \\sim N(x, 0.6) $$"
     ]
    },
    {
     "cell_type": "code",
     "collapsed": false,
     "input": [
      "## FUNCTIONS \n",
      "# target distribution p(x) \n",
      "p = lambda x: 6*x*(1-x)\n",
      "\n",
      "# number of samples\n",
      "n = 1000000\n",
      "\n",
      "# sigma for our proposal distribution\n",
      "# corresponds to step size\n",
      "sig = 0.6\n",
      "\n",
      "#intitialize the sampling. Start somewhere from 0..1\n",
      "x0 = np.random.uniform()\n",
      "#x0 = 0.00000001\n",
      "\n",
      "x_prev = x0\n",
      "\n",
      "x = [] # to save our samples\n",
      "\n",
      "for i in xrange(n):\n",
      "    # sample new state candidate from proposal distribution\n",
      "    x_star = np.random.normal(x_prev, sig)\n",
      "\n",
      "    while  (x_star <0) | (x_star > 1):  # make sure you stay within bounds\n",
      "        x_star = np.random.normal(x_prev, sig)\n",
      "       \n",
      "    P_star = p(x_star)\n",
      "    P_prev = p(x_prev)\n",
      "    U =  np.random.uniform()\n",
      "    \n",
      "    # A is simple because our transition probability is symmetric (Metropolis only)\n",
      "    A =  P_star/P_prev # did we go up or down? \n",
      "       \n",
      "    if U < A: #coin flip to see if we accept\n",
      "        x_prev = x_star \n",
      "\n",
      "    x.append(x_prev) # we always get a sample question just is if we stay or move on\n",
      "\n",
      "# plot our sample histogram\n",
      "plt.hist(x,10, alpha=0.4, label=u'MCMC distribution', normed=True) \n",
      "\n",
      "#plot the true function\n",
      "xx= np.linspace(0,1,100)\n",
      "plt.plot(xx, p(xx), 'r', label=u'True distribution') \n",
      "plt.legend()\n",
      "\n",
      "plt.show()\n",
      "print \"starting point was \", x0"
     ],
     "language": "python",
     "metadata": {},
     "outputs": [
      {
       "metadata": {},
       "output_type": "display_data",
       "png": "[encoded data removed]",
       "text": [
        "<matplotlib.figure.Figure at 0x9cbe830>"
       ]
      },
      {
       "output_type": "stream",
       "stream": "stdout",
       "text": [
        "starting point was  0.890374618217\n"
       ]
      }
     ],
     "prompt_number": 63
    },
    {
     "cell_type": "markdown",
     "metadata": {},
     "source": [
      "Note: The part where we rejected new proposals if they fell outside the desired range made our sampling wrong. What is basically happening is that we are then sampling from a truncated proposal, and this truncated proposal is not normalized. Normalizing against this actually made the computation much slower, so in this case I would just comment those lines out. The function is negative anyways if we try to go out of the defined bounds, so it all works out for this example.\n",
      "If you want to read in more detail about this, please look at this [blog post](https://darrenjw.wordpress.com/2012/06/04/metropolis-hastings-mcmc-when-the-proposal-and-target-have-differing-support/) from Darren Wilkinson."
     ]
    },
    {
     "cell_type": "code",
     "collapsed": false,
     "input": [],
     "language": "python",
     "metadata": {},
     "outputs": []
    }
   ],
   "metadata": {}
  }
 ]
}