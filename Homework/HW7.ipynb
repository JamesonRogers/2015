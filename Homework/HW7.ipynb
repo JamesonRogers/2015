{
 "metadata": {
  "kernelspec": {
   "display_name": "Python 2",
   "language": "python",
   "name": "python2"
  },
  "language_info": {
   "codemirror_mode": {
    "name": "ipython",
    "version": 2
   },
   "file_extension": ".py",
   "mimetype": "text/x-python",
   "name": "python",
   "nbconvert_exporter": "python",
   "pygments_lexer": "ipython2",
   "version": "2.7.6"
  },
  "name": ""
 },
 "nbformat": 3,
 "nbformat_minor": 0,
 "worksheets": [
  {
   "cells": [
    {
     "cell_type": "heading",
     "level": 1,
     "metadata": {},
     "source": [
      "**AM 207**: Homework 7"
     ]
    },
    {
     "cell_type": "markdown",
     "metadata": {},
     "source": [
      "_ _ _ _ _\n",
      "\n",
      "Verena Kaynig-Fittkau & Pavlos Protopapas <br>\n",
      "Handed out: Wednesday, March 25, 2015<br>\n",
      "Due: 11.59 P.M. Wednesday, April 1, 2015<br>\n",
      "\n",
      "**Instructions**:\n",
      "\n",
      "+ Upload your answers in an ipython notebook to the dropbox.\n",
      "\n",
      "+ Your individual submissions use the following filenames: AM207_YOURNAME_HW7.ipynb\n",
      "\n",
      "+ Your code should be in code cells as part of your ipython notebook. Do not use a different language (or format) unless you get permission from the TFs. If you use any special libraries you must include them with your code (program should run as is). \n",
      "\n",
      "+ If you have multiple files (e.g. you've added code files and images) create a tarball for all files in a single file and name it: AM207_YOURNAME_HW7.tar or AM207_YOURNAME_HW7.zip\n",
      "\n",
      "+ Please remember that your solution should be a report! We would like some explanations of your ideas, and ways to approach the solution. Also please comment your code.\n",
      "_ _ _ _ _"
     ]
    },
    {
     "cell_type": "code",
     "collapsed": false,
     "input": [
      "%matplotlib inline\n",
      "import numpy as np\n",
      "import scipy as sp\n",
      "import matplotlib.pyplot as plt\n",
      "import pandas as pd\n",
      "import random\n",
      "import math\n",
      "from statsmodels.formula.api import ols"
     ],
     "language": "python",
     "metadata": {},
     "outputs": [],
     "prompt_number": 1
    },
    {
     "cell_type": "markdown",
     "metadata": {},
     "source": [
      "## Question 1 : Metropolis-Hastings sampler, slice sampler and HMC sampler\n",
      "\n",
      "Consider\n",
      "\n",
      "$$f(x,y)= \\exp(-x^4-y^4+2xy-51x^2-51y^2+100\\sqrt{x^2+y^2})$$\n",
      "\n",
      "Sample $ f(x,y) $ by writing a\n",
      "\n",
      "1. Metropolis or Metropolis-Hastings sampler\n",
      "\n",
      "2. HMC sampler\n",
      "\n",
      "3. Slice sampler (optional, extra credit)\n",
      "\n",
      "For each sampler, show a 2D plot of the samples and a traceplot of samples for each marginal distribution. Describe convergence diagnostics for each sampling method, using a Geweke test and checking the autocorrelation. Use other diagnostic checks (e.g. histograms, Gelman-Rubin, ESS, etc...) that you think are appropriate and are comfortable working with. Discuss how your samplers performed, using the same burn-in and thinning parameters to ensure comparability."
     ]
    },
    {
     "cell_type": "markdown",
     "metadata": {},
     "source": [
      "## Question 2 : Model Mis-specification and Sensitivity of Priors\n",
      "\n",
      "Verena is curious about the relationship between the amount of chalk used during the lectures and the \"smudge score\" of the instructors clothes. The \"smudge score\" is a real number:  the bigger the number, the dirtier the clothes are. She did some experiments and recorded the results in \"chalk.csv\". Column \"x\" is the amount of chalk used in the lecture, and column \"y\" is the smudge score of the clothes. We will model x and y by a linear regression model.\n",
      "\n",
      "\\begin{equation}\n",
      "y_i = \\beta_0 + x_i \\beta + \\sigma\\epsilon_i,\\ i=1,\\ldots, n. \\ \\epsilon_i\\mbox{ is a iid random noise.}\n",
      "\\end{equation}\n",
      "\n",
      "First, we solve the problem from a frequentist perspective using linear regression.\n",
      "\n",
      "**Part 1: Linear regression analysis**\n",
      "\n",
      "1. Plot the raw data, and check for outliers.\n",
      "2. Give the least squares estimate of parameters $\\beta_0$, $\\beta$ and $\\sigma$ and their respective 95% confidence intervals. (Please use the functions from package **statsmodels.formula.api.ols**, which was already imported above.)\n",
      "3. Are the estimations of $\\beta_0$, $\\beta$, $\\sigma^2$ valid? For which variable is the estimation biased, and what is the reason for this?\n",
      "\n",
      "Next, we use the Bayesian method of estimating the parameters in the regression model, and consider two kinds of priors. \n",
      "\n",
      "**Prior 1 (Flat priors)** \n",
      "\n",
      "$$p(\\beta_0,\\beta,\\sigma^2)\\propto 1/\\sigma^2.$$\n",
      "\n",
      "**Prior 2 ('Conjugate' priors)** \n",
      "\n",
      "$$\\beta_0\\sim\\mathcal{N}(0.0, 0.5^2),\\beta\\sim\\mathcal{N}(0.0, 0.5^2),\\sigma^2\\sim Inv-\\chi^2(\\nu, s^2).$$\n",
      "\n",
      "The prior for $\\sigma^2$ is the scaled inverse chi-squared distribution with $\\nu=2.0$ degrees of freedom and a scaling factor of $s^2=1.0$. \n",
      "\n",
      "**Part 2.** Assume that we model $\\epsilon_i\\sim N(0,1)$. \n",
      "\n",
      "1. Write an M-H algorithm to obtain posterior samples of $\\beta_0$, $\\beta$ and $\\sigma^2$. Please report the posterior means and parameter variances.\n",
      "2. Obtain the $95\\%$ predictive interval of $y_i$ for each $x_i$. How many of the observed $y_i$s are inside this interval?\n",
      "3. Do the results from the two different priors differ? Describe what you found.\n",
      "\n",
      "**Part 3.** Now we model $\\epsilon_i\\sim t_2$, that is a t distribution with degree of freedom 2. \n",
      "\n",
      "1. Write an M-H algorithm to obtain posterior samples of $\\beta_0$, $\\beta$ and $\\sigma^2$. Please report the posterior means and parameter variances.\n",
      "2. Obtain the $95\\%$ predictive interval of $y_i$ for each $x_i$. How many of the observed $y_i$s are inside this interval?\n",
      "3. Do the results from the two different priors differ? Describe what you found.\n",
      "\n",
      "**Part 4. ** General comparasion\n",
      "\n",
      "1. Compare your results from Parts 1, 2 and 3. Which one yields the most valid result?  (i.e., we could compare the posterior means and variances of all the methods.) What is the reason for this?\n",
      "2. Plot the raw data and the predictive intervals from Part 2 and Part 3 together in the same plot. Compare the four predictive intervals. Which one do you think performs best, and what is the reason for this? \n",
      "\n",
      "## Hint for likelihood functions\n",
      "Define $\\bar{X} = \\frac{\\sum_{i=1}^n x_i}{n}$, $\\bar{Y} = \\frac{\\sum_{i=1}^n y_i}{n}$, $S_{X}^2 =\\frac{\\sum_{i=1}^n x_i^2}{n}$, $S_Y^2=\\frac{\\sum_{i=1}^n y_i^2}{n}$, $S_{XY} = \\frac{\\sum_{i=1}^n x_i y_i}{n}$. \n",
      "\n",
      "** normal noise**\n",
      "\n",
      "If we assume $\\epsilon_i$ are i.i.d. Gaussian instead of i.i.d. t, the likelihood function is given by\n",
      "\n",
      "$$p(y_1,\\ldots, y_n|\\beta_0,\\beta,\\sigma^2)\\propto \\frac{1}{\\sigma^n}\\exp(-\\frac{\\sum_{i=1}^n (y_i-\\beta_0-\\beta x_i)^2}{2\\sigma^2}),$$\n",
      "\n",
      "which can be simplified as\n",
      "\n",
      "$$p(y_1,\\ldots, y_n|\\beta_0,\\beta,\\sigma^2)\\propto \\frac{1}{\\sigma^{n}}\\exp(-\\frac{n (\\beta_0^2 + \\beta^2 S_{X}^2 + 2\\beta_0\\beta \\bar{X} - 2\\beta_0 \\bar{Y} - 2\\beta S_{XY}+S_Y^2)}{2\\sigma^2}).$$\n",
      "\n",
      "** t distribution noise**\n",
      "\n",
      "If we assume $\\epsilon_i$ are i.i.d. t distribution with degree of freedom $\\nu$, the likelihood function is given by\n",
      "\n",
      "$$p(y_1,\\ldots, y_n|\\beta_0,\\beta,\\sigma^2)\\propto \\frac{1}{\\sigma^n}\\prod_{i=1}^n (1+\\frac{(y_i-\\beta_0-x_i\\beta_1)^2}{\\sigma^2\\nu})^{-\\frac{\\nu+1}{2}}.$$\n",
      "\n"
     ]
    },
    {
     "cell_type": "code",
     "collapsed": false,
     "input": [],
     "language": "python",
     "metadata": {},
     "outputs": [],
     "prompt_number": null
    }
   ],
   "metadata": {}
  }
 ]
}