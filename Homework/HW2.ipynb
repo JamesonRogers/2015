{
 "metadata": {
  "name": "",
  "signature": "sha256:853e421a2a571f83a99aa0352c7946d234bd7176b15cb44a17b016599c12896d"
 },
 "nbformat": 3,
 "nbformat_minor": 0,
 "worksheets": [
  {
   "cells": [
    {
     "cell_type": "heading",
     "level": 1,
     "metadata": {},
     "source": [
      "**AM 207**: Homework 2"
     ]
    },
    {
     "cell_type": "markdown",
     "metadata": {},
     "source": [
      "_ _ _ _ _\n",
      "\n",
      "Verena Kaynig-Fittkau and Pavlos Protopapas  <br>\n",
      "Handed out: Thursday, February 13th, 2015<br>\n",
      "Due: 11.59 P.M. Wednesday February 18th, 2015\n",
      "\n",
      "**Instructions**:\n",
      "\n",
      "+ Upload your answers in an ipython notebook to the dropbox on iSites, you can find the link on our homepage (http://am207.org/).\n",
      "\n",
      "+ We will provide you imports for your ipython notebook. For the first part of this course, please do not import additional libraries.\n",
      "\n",
      "+ Your individual submissions should use the following filenames: AM207_YOURNAME_HW0.ipynb\n",
      "\n",
      "+ Your code should be in code cells as part of your ipython notebook. Do not use a different language (or format). \n",
      "\n",
      "+ Please submit your notebook in an executed status, so that we can see all the results you computed. However, we will still run your code and all cells should reproduce the output when executed. \n",
      "\n",
      "+ If you have multiple files (e.g. you've added code files or images) create a tarball for all files in a single file and name it: AM207_YOURNAME_HW0.tar.gz or AM207_YOURNAME_HW0.zip\n",
      "\n",
      "+ Please remember that your solution should be a **report**! We would like some explanations of your ideas, and ways to approach the solution. Also please comment your code. \n",
      "\n",
      "### Have Fun!\n",
      "_ _ _ _ _\n",
      "_ _ _ _ _"
     ]
    },
    {
     "cell_type": "code",
     "collapsed": false,
     "input": [
      "import time\n",
      "import math\n",
      "import numpy as np\n",
      "import scipy\n",
      "\n",
      "%matplotlib inline\n",
      "import matplotlib.pyplot as plt\n",
      "\n",
      "# you don't have to use seaborn if you prefer plain matplotlib\n",
      "import seaborn as sns\n",
      "sns.set_style('white')\n",
      "sns.set_context('paper')"
     ],
     "language": "python",
     "metadata": {},
     "outputs": [],
     "prompt_number": 1
    },
    {
     "cell_type": "heading",
     "level": 3,
     "metadata": {},
     "source": [
      "Question 1:  My Lover's Got Humor (*Hozier*)"
     ]
    },
    {
     "cell_type": "markdown",
     "metadata": {},
     "source": [
      "It is rumored that buried under the piled up snows brought to us by the Blizzardpocolypse of 2015 theres is a modest road known as the Boulevard of Broken Dreams (*Green Day*).  Along this road you'll find scattered the shattered hearts of humorists who are \"the giggle at a funeral\" (*Hozier*) and also of one Richard Sherman (*Seattle Seahawks*). Let's assume the broken hearts are distributed according to the function $\\heartsuit(\\theta) \\sim \\frac{ {\\rm sin^{34}}\\theta}{\\theta^2}$ from $0< \\theta< \\infty$ and $\\heartsuit(\\theta )=0$ otherwise.  As a current humorist, it is your job to try to integrate $\\heartsuit(\\theta)$.\n",
      "\n",
      "(a) Estimate your integral of $\\heartsuit (\\theta)$ using the standard Monte Carlo method with $N=100000$.  That is calculate the integral, \n",
      "\n",
      "$I=\\int_{0}^{\\infty} \\frac{ {\\rm sin^{34}}\\theta d\\theta}{\\theta^2}$\n",
      "\n",
      "Repeat the simulation 100 times and report the mean value of $I$ and its variance. (Hint: find a way to deal with that $\\infty$ sign there)<br>\n",
      "\n",
      "(b) Use importance sampling to evaluate the same integral.  Use the pdf of $\\mathcal{N}(20,0.5)$ for your importance sampling distribution.  Why is this not a good choice? Try to choose a good importance sampling distribution and evaluate again.  Do you see a reduction in variance?  For both importance sampling distributions, run 100 simulations of 100,000 points. \n",
      "\n",
      "(c) Use a control variate to reduce the variance of the estimation of $I$ using $N=100000$ and 100 simulations as in part (a)\n",
      "\n",
      "(d) Is it a good idea to use the antithesis method to reduce variance here?  Why or why not?  Could you use antithesis in combination with another method?  (We're only looking for your understanding of the methods in this problem.  No code required for this part).\n",
      "\n",
      "(e) ** CHALLENGE/EXTRA CREDIT ** Use the best variance reduction method/combination of methods you can come up with.  Please restrict yourself to methods that we've covered in class and lab.  The top 10 solutions will get an additional bonus. \n"
     ]
    },
    {
     "cell_type": "heading",
     "level": 3,
     "metadata": {},
     "source": [
      "Question 2:  Bayesian Unbreak My Code (*Whitney Houston*)"
     ]
    },
    {
     "cell_type": "markdown",
     "metadata": {},
     "source": [
      "A particular digital communications sytem is known to transmit messages using the **lover's alphabet** of  Love Me's (1s) and Love Me Nots (0s).  Super secret code breakers at the UK's GCHQ have discovered by reading all love missives sent by anyone in the world that the \"letter\" Love Me is sent with a certain probability p and that p is either $\\frac{1}{3}$ or $\\frac{2}{3}$.  A junior analyst at GCHQ (a Yank on loan from the NSA) is given $4$ observations as data -- { Love Me, Love Me, Love Me Not, Love Me}.  A Bayesian, he is charged with inferring p from his observations.  What will he determine? Did \"she used to love me a lot?\" (*Johnny Cash*) <br>\n",
      "\n",
      "Please help our NSA guy by answering the following questions:\n",
      "1. What is the likelihood here?\n",
      "1. How do you define the prior?\n",
      "1. Given the above, what is the posterior for the problem?  *Hint, we are looking for two numbers.*\n",
      "1. Which p is more likely given this posterior?"
     ]
    }
   ],
   "metadata": {}
  }
 ]
}