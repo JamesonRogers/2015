{
 "metadata": {
  "name": "",
  "signature": "sha256:c8e2b94dd6f48cb5c586e67e11f330301a58340be7b78676851add2e552565bb"
 },
 "nbformat": 3,
 "nbformat_minor": 0,
 "worksheets": [
  {
   "cells": [
    {
     "cell_type": "heading",
     "level": 1,
     "metadata": {},
     "source": [
      "**AM 207**: Homework 4 Solution"
     ]
    },
    {
     "cell_type": "code",
     "collapsed": false,
     "input": [
      "import numpy as np\n",
      "import matplotlib.pyplot as plt\n",
      "%matplotlib inline"
     ],
     "language": "python",
     "metadata": {},
     "outputs": [],
     "prompt_number": 1
    },
    {
     "cell_type": "heading",
     "level": 3,
     "metadata": {},
     "source": [
      "Question 1: Jumping between mountains"
     ]
    },
    {
     "cell_type": "markdown",
     "metadata": {},
     "source": [
      "We use the M-H algorithm to sample from the normal distribution: $p(x) = \\frac{1}{\\sqrt{2\\pi}} e^{-\\frac{x^2}{2}}$. \n",
      "\n",
      "\n",
      "\n",
      "(a) Select a proposal distribution of $q(x^*|x) = \\frac{1}{\\sqrt{2\\pi}\\sigma}e^{-\\frac{(x^*-x)^2}{2\\sigma^2}}$. Let the starting point be $x_0=-1000$ and step size be $\\sigma=1$. Now, run the M-H algorithm for 10,000 samples. Show the trace plot of your algorithm. What is an appropriate burn-in sample size?\n",
      "\n",
      "(b) Perform Geweke tests, one for all samples and one for samples after burn-in. Do the results differ? If so, explain why.\n",
      "\n",
      "Now, we would like to sample from a mixture normal distribution:  $p(x) = \\frac{1}{2\\sqrt{2\\pi}} e^{-\\frac{(x-6)^2}{2}} + \\frac{1}{2\\sqrt{2\\pi}} e^{-\\frac{(x+6)^2}{2}}$. \n",
      "\n",
      "(c) Please visualize the density function, $p(x)$, from $-10$ to $10$.\n",
      "\n",
      "(d) Using a starting point of $x_0=-6$ and a proposal distribution of $q(x^*|x) = \\frac{1}{\\sqrt{2\\pi}\\sigma}e^{-\\frac{(x^*-x)^2}{2\\sigma^2}}$ with $\\sigma=1$, run the M-H algorithm for 10,000 samples.\n",
      "Choose an appropriate burn-in sample size, show the trace plot, and perform the Geweke test on the remaining samples. Just looking at these two results, what do you see? Does the MCMC converge?\n",
      "\n",
      "(e) Now plot the histogram of the remaining samples. Is the M-H algorithm converging?\n",
      "\n",
      "(f) Finally, using $\\sigma=4$ for the proposal distribution, re-answer problems (d) and (e). For Geweke test, try \n",
      "segments of 100 and 500 to calculate the means and variances. If the results differ, please explain why. "
     ]
    },
    {
     "cell_type": "heading",
     "level": 3,
     "metadata": {},
     "source": [
      "Solutions:"
     ]
    },
    {
     "cell_type": "markdown",
     "metadata": {},
     "source": [
      "(a) In this problem, owing to a tiny initial value of $p(x_0 = -1000) = \\frac{1}{\\sqrt{2\\pi}}\\exp(-1000^{2}/2) \\approx 0$ , we need to use a logarithmic normal PDF instead of the normal one when implementing MH sampling algorithm. By doing so, we can avoid a possible rounding error which might occur during the numerical estimation. Here are the functions for the log-likelihood and the MH algorithm."
     ]
    },
    {
     "cell_type": "code",
     "collapsed": false,
     "input": [
      "# log(p(x))\n",
      "def logp(x):\n",
      "    return -x**2/2\n",
      "# M-H algorithm\n",
      "def mcmc(x0, N, sigma):\n",
      "    count = 0\n",
      "    result = np.zeros(N)\n",
      "    r = np.random.random(N)\n",
      "    for i in xrange(N):\n",
      "        x1 = np.random.normal(x0, sigma)\n",
      "        p = logp(x1)-logp(x0)\n",
      "        if np.log(r[i]) < p:\n",
      "            x0 = x1\n",
      "            count += 1\n",
      "        result[i] = x0\n",
      "    print \"The acceptance rate of the chain is \"+str(float(count)/N)+\".\"\n",
      "    return result"
     ],
     "language": "python",
     "metadata": {},
     "outputs": [],
     "prompt_number": 2
    },
    {
     "cell_type": "markdown",
     "metadata": {},
     "source": [
      "Let us sample from the normal distribution by M-H algorithm. \n",
      "We set the parameters as $N=10,000$ and $x_0=-1000$, $\\sigma=1$. \n",
      "$N$ is the number of samples, $x_0$ is the starting point and $\\sigma$ is the step size."
     ]
    },
    {
     "cell_type": "code",
     "collapsed": false,
     "input": [
      "N = 10000\n",
      "x0 = -1000\n",
      "sigma = 1\n",
      "result = mcmc(x0, N, sigma)"
     ],
     "language": "python",
     "metadata": {},
     "outputs": [
      {
       "output_type": "stream",
       "stream": "stdout",
       "text": [
        "The acceptance rate of the chain is 0.6509.\n"
       ]
      }
     ],
     "prompt_number": 3
    },
    {
     "cell_type": "markdown",
     "metadata": {},
     "source": [
      "Trace plot of the chain looks as follows. 2500 - 3000 is a proper burnin sample size."
     ]
    },
    {
     "cell_type": "code",
     "collapsed": false,
     "input": [
      "plt.plot(result)\n",
      "plt.show()"
     ],
     "language": "python",
     "metadata": {},
     "outputs": [
      {
       "metadata": {},
       "output_type": "display_data",
       "png": "[encoded data removed]",
       "text": [
        "<matplotlib.figure.Figure at 0x105ab45d0>"
       ]
      }
     ],
     "prompt_number": 4
    },
    {
     "cell_type": "markdown",
     "metadata": {},
     "source": [
      "(b) Let us first define the function for the Geweke test. The following criterion manifests the evidence of the sampling convergence.\n",
      "\n",
      "$$-2 < \\frac{(\\bar{\\theta}_a-\\bar{\\theta}_b)}{\\sqrt{ s^2(\\theta_a)/n_a+s^2(\\theta_b)/n_b}} < 2$$\n",
      "\n",
      "where $a$ and $b$ are the early and late segments. $n_a$ and $n_b$ are the length of the segments. $\\bar{\\theta}_a$ and $\\bar{\\theta}_b$ are the means of the segments. $s^2(\\theta_a)/n_a$ and $s^2(\\theta_b)/n_b$ are the estimators of the variance of $\\bar{\\theta}_a$ and $\\bar{\\theta}_b$. Because the segments are highly autocorrelated, we use the idea of effective sample size (from Quesiton 2(b)). We estimate $s^2(\\theta_a)/n_a$ as $\\frac{\\rm{var}(\\theta_a)}{n_a/(1+2\\sum_{t=1}^{\\infty} \\rho_t)}$ and $s^2(\\theta_b)/n_b$ as $\\frac{\\rm{var}(\\theta_b)}{n_b/(1+2\\sum_{t=1}^{\\infty} \\rho_t)}$. $\\rho_t = cor(X_i, X_{i+t})$  is the autocorrelation of the sequence at lag t. For simplicity, we estimate $s^2(\\theta_a)/n_a$ as $\\frac{\\rm{var}(\\theta_a)}{n_a/(1+2\\sum_{t=1}^{B_a} \\rho_t)}$ and $s^2(\\theta_b)/n_b$ as $\\frac{\\rm{var}(\\theta_b)}{n_b/(1+2\\sum_{t=1}^{B_b} \\rho_t)}$. $B$ is the bound for autocorrelation computation. We choose $B_a$ as $0.1n_a$ and $B_b$ as $0.1n_b$. In fact, people use more complicated method, such as spectral density estimate, to estimate the variance of autocorrelated sample. Please find more explanation in http://en.wikipedia.org/wiki/Spectral_density and *Evaluation the accuracy of sampling-based approaches to the calculation of posterior moments (Geweke, 1992)*. We also suggest use the built-in function *geweke* in *pymc* to perform the geweke test."
     ]
    },
    {
     "cell_type": "code",
     "collapsed": false,
     "input": [
      "# autocorrelation with lag t\n",
      "def rhot(x, t):\n",
      "    n = len(x)\n",
      "    return np.corrcoef(x[0:(n-t)], x[t:n])[0,1]\n",
      "\n",
      "# Geweke function\n",
      "def Geweke(trace, intervals, length):\n",
      "    # take two parts of the chain. \n",
      "    # subsample lenght \n",
      "    nsl=length\n",
      "    jump = int(0.9*len(trace)/(2*intervals))\n",
      "    first = 0.1*len(trace)\n",
      "    z =np.empty(intervals)\n",
      "    for k in np.arange(0, intervals):\n",
      "        # beg of each sub samples\n",
      "        bega=first+k*jump\n",
      "        begb = len(trace)/2 + k*jump\n",
      "        \n",
      "        sub_trace_a = trace[bega:bega+nsl]\n",
      "        sub_trace_b = trace[begb:begb+nsl]\n",
      "        \n",
      "        theta_a = np.mean(sub_trace_a)\n",
      "        theta_b = np.mean(sub_trace_b)\n",
      "        rho_a, rho_b = 1.0, 1.0\n",
      "        # only compute autocorrelation at lag 1-0.1*nsl.\n",
      "        for i in xrange(int(0.1*nsl)):\n",
      "            rho_a += 2*rhot(sub_trace_a, i+1)\n",
      "            rho_b += 2*rhot(sub_trace_b, i+1)\n",
      "            \n",
      "        # estimate the variance roughly\n",
      "        var_a  = np.var(sub_trace_a)*rho_a/length\n",
      "        var_b  = np.var(sub_trace_b)*rho_b/length\n",
      "        \n",
      "        z[k] = (theta_a-theta_b)/np.sqrt( var_a + var_b)\n",
      "    \n",
      "    return z\n"
     ],
     "language": "python",
     "metadata": {},
     "outputs": [],
     "prompt_number": 5
    },
    {
     "cell_type": "markdown",
     "metadata": {},
     "source": [
      "Next we plot the Geweke test with all the samples from M-H for length = 100 and 500. Neither of them shows that the M-H algorithm converges. Intuitively, if you include burn-in samples, which are not converged data in the early segement, then there will be significant differences in mean values as well as the standard deviations between two segments taken at different times corresponding to early and late intervals. This is the reason why we see a large deviation from a convergence range (-2,2) in the graph where the burn-in samples are included. "
     ]
    },
    {
     "cell_type": "code",
     "collapsed": false,
     "input": [
      "geweke100 = Geweke(result, 10, 100)\n",
      "geweke500 = Geweke(result, 10, 500)\n",
      "\n",
      "plt.figure(1)\n",
      "plt.subplot(211)\n",
      "plt.plot(geweke100)\n",
      "\n",
      "plt.subplot(212)\n",
      "plt.plot(geweke500)\n",
      "plt.show()"
     ],
     "language": "python",
     "metadata": {},
     "outputs": [
      {
       "metadata": {},
       "output_type": "display_data",
       "png": "[encoded data removed]",
       "text": [
        "<matplotlib.figure.Figure at 0x103a8cd90>"
       ]
      }
     ],
     "prompt_number": 6
    },
    {
     "cell_type": "markdown",
     "metadata": {},
     "source": [
      "Now we plot the Geweke test with  samples after burnin for length = 100 and 500. We set the burnin sample size as 3,000. Both the results show that the chain has converged."
     ]
    },
    {
     "cell_type": "code",
     "collapsed": false,
     "input": [
      "burnin = 3000\n",
      "geweke100 = Geweke(result[burnin:], 7, 100)\n",
      "geweke500 = Geweke(result[burnin:], 7, 500)\n",
      "\n",
      "plt.figure(1)\n",
      "plt.subplot(211)\n",
      "plt.plot(geweke100)\n",
      "plt.ylim((-2,2))\n",
      "\n",
      "plt.subplot(212)\n",
      "plt.plot(geweke500)\n",
      "plt.ylim((-2,2))\n",
      "plt.show()"
     ],
     "language": "python",
     "metadata": {},
     "outputs": [
      {
       "metadata": {},
       "output_type": "display_data",
       "png": "[encoded data removed]",
       "text": [
        "<matplotlib.figure.Figure at 0x105b9d690>"
       ]
      }
     ],
     "prompt_number": 7
    },
    {
     "cell_type": "code",
     "collapsed": false,
     "input": [
      "result_partb1 = result.copy()\n",
      "result_partb2 = result[burnin:].copy()"
     ],
     "language": "python",
     "metadata": {},
     "outputs": [],
     "prompt_number": 8
    },
    {
     "cell_type": "markdown",
     "metadata": {},
     "source": [
      "(c) Visualization of the density looks as follows, it has two peaks, at $x=-6$ and $x=6$. Note that again, we use the log-scale for the density function."
     ]
    },
    {
     "cell_type": "code",
     "collapsed": false,
     "input": [
      "# log(p(x))\n",
      "def logp(theta):\n",
      "    substract = max(-(theta-6)**2/2,-(theta+6)**2/2)\n",
      "    diff = min(-(theta-6)**2/2,-(theta+6)**2/2) - substract\n",
      "    logpost = substract + np.log(np.exp(diff) + 1)\n",
      "    return logpost\n",
      "# Again, we are using log-scale of the density function."
     ],
     "language": "python",
     "metadata": {},
     "outputs": [],
     "prompt_number": 9
    },
    {
     "cell_type": "code",
     "collapsed": false,
     "input": [
      "x = np.linspace(-10,10,5000)\n",
      "y = np.zeros(len(x))\n",
      "for i in xrange(len(x)):\n",
      "    y[i] = np.exp(logp(x[i]))\n",
      "plt.plot(x,y)\n",
      "plt.show()"
     ],
     "language": "python",
     "metadata": {},
     "outputs": [
      {
       "metadata": {},
       "output_type": "display_data",
       "png": "[encoded data removed]",
       "text": [
        "<matplotlib.figure.Figure at 0x103a901d0>"
       ]
      }
     ],
     "prompt_number": 10
    },
    {
     "cell_type": "markdown",
     "metadata": {},
     "source": [
      "(d) Run M-H sampling with $x_0=-6$, $N=10000$ and $\\sigma=1$. We choose burnin = 3000 (you can choose other numbers as our discussions below)."
     ]
    },
    {
     "cell_type": "code",
     "collapsed": false,
     "input": [
      "x0 = -6\n",
      "N = 10000\n",
      "sigma = 1\n",
      "result = mcmc(x0, N, sigma)"
     ],
     "language": "python",
     "metadata": {},
     "outputs": [
      {
       "output_type": "stream",
       "stream": "stdout",
       "text": [
        "The acceptance rate of the chain is 0.7083.\n"
       ]
      }
     ],
     "prompt_number": 16
    },
    {
     "cell_type": "markdown",
     "metadata": {},
     "source": [
      "Trace plot after burnin."
     ]
    },
    {
     "cell_type": "code",
     "collapsed": false,
     "input": [
      "burnin = 3000\n",
      "plt.plot(result[burnin:N])\n",
      "plt.show()"
     ],
     "language": "python",
     "metadata": {},
     "outputs": [
      {
       "metadata": {},
       "output_type": "display_data",
       "png": "[encoded data removed]",
       "text": [
        "<matplotlib.figure.Figure at 0x105ab42d0>"
       ]
      }
     ],
     "prompt_number": 17
    },
    {
     "cell_type": "markdown",
     "metadata": {},
     "source": [
      "Plot Geweke test with  samples after burnin for length = 100 and 500. Both of the Geweke tests and the traceplot show that the M-H algorithm converges."
     ]
    },
    {
     "cell_type": "code",
     "collapsed": false,
     "input": [
      "burnin = 3000\n",
      "geweke100 = Geweke(result[burnin:], 7, 100)\n",
      "geweke500 = Geweke(result[burnin:], 7, 500)\n",
      "\n",
      "plt.figure(1)\n",
      "plt.subplot(211)\n",
      "plt.plot(geweke100)\n",
      "plt.ylim((-2,2))\n",
      "\n",
      "plt.subplot(212)\n",
      "plt.plot(geweke500)\n",
      "plt.ylim((-2,2))\n",
      "plt.show()"
     ],
     "language": "python",
     "metadata": {},
     "outputs": [
      {
       "metadata": {},
       "output_type": "display_data",
       "png": "[encoded data removed]",
       "text": [
        "<matplotlib.figure.Figure at 0x105bec3d0>"
       ]
      }
     ],
     "prompt_number": 18
    },
    {
     "cell_type": "markdown",
     "metadata": {},
     "source": [
      "Since we start with $x_0 = -6$, there seems to be no need for a burn-in period : the starting point ($x_0 = -6$) already corresponds to the important point that gives the maximum probability for the given function $p(x)$. The absence of burn-in samples can also be supported by Geweke test where we can see a good convergence of the MH sampling over all the intervals. Even though these two results seem fine at first glance, however, it does not prove that our Markov chain has converged (recall that the Geweke test can only reject when the Markov chain has not converged, but it does not prove convergence). In fact, our sampled x-values only stay nearby $x \\sim -6$ as seen in the trace plot, totally missing the other mode. Also, we could find that different length of the Geweke tests could give different results."
     ]
    },
    {
     "cell_type": "code",
     "collapsed": false,
     "input": [
      "result_partd = result[burnin:].copy()"
     ],
     "language": "python",
     "metadata": {},
     "outputs": [],
     "prompt_number": 19
    },
    {
     "cell_type": "markdown",
     "metadata": {},
     "source": [
      "(e) We plot the histogram of the samples after burnin. It's not converging for it only has one mode while the density function has two modes. This is because the proposal function $q(x^*|x) = N(x^*-x, \\mu = 0, \\sigma = 1)$ has a rather small stepsize ($\\sigma = 1$) which is not large enough to explore the right part of $f(x)$. Therefore, the current MH algorithm fails to converge."
     ]
    },
    {
     "cell_type": "code",
     "collapsed": false,
     "input": [
      "plt.hist(result[burnin:N], bins = 20)\n",
      "plt.show()"
     ],
     "language": "python",
     "metadata": {},
     "outputs": [
      {
       "metadata": {},
       "output_type": "display_data",
       "png": "[encoded data removed]",
       "text": [
        "<matplotlib.figure.Figure at 0x105b96750>"
       ]
      }
     ],
     "prompt_number": 20
    },
    {
     "cell_type": "markdown",
     "metadata": {},
     "source": [
      "(f) We change $\\sigma=4$ and perform as previous. We also choose burn in sample size as 3000."
     ]
    },
    {
     "cell_type": "code",
     "collapsed": false,
     "input": [
      "x0 = -6\n",
      "N = 10000\n",
      "sigma = 4\n",
      "result = mcmc(x0, N, sigma)"
     ],
     "language": "python",
     "metadata": {},
     "outputs": [
      {
       "output_type": "stream",
       "stream": "stdout",
       "text": [
        "The acceptance rate of the chain is 0.3021.\n"
       ]
      }
     ],
     "prompt_number": 90
    },
    {
     "cell_type": "markdown",
     "metadata": {},
     "source": [
      "The trace plot looks as follows:"
     ]
    },
    {
     "cell_type": "code",
     "collapsed": false,
     "input": [
      "burnin = 1000\n",
      "plt.plot(result[burnin:N])\n",
      "plt.show()"
     ],
     "language": "python",
     "metadata": {},
     "outputs": [
      {
       "metadata": {},
       "output_type": "display_data",
       "png": "[encoded data removed]",
       "text": [
        "<matplotlib.figure.Figure at 0x105ba0ed0>"
       ]
      }
     ],
     "prompt_number": 91
    },
    {
     "cell_type": "markdown",
     "metadata": {},
     "source": [
      "\n",
      "In order to resolve the issue of being stuck at one mode, we increased the stepsize $\\sigma$ in $q(x^*|x, \\sigma) = N(x^*-x, \\mu = 0, \\sigma)\\ $      from 1 to 4. Now, the new trace plot shown above confirms that the MH algorithm also samples the right part of Gaussian profile centered at $x = 6$. It is noteworthy from the trace plot that we can occassionally see random transitions from -6 to 6 and vice versa. As a result of the new proposal function with widened stepsize ($\\sigma = 4$), the extracted samples by MH algorithm reasonably follow well the given function $p(x)$ (Please see the top-right histogram in the below)."
     ]
    },
    {
     "cell_type": "markdown",
     "metadata": {},
     "source": [
      "Here we plot Geweke test with  samples after burnin for length = 100 and 500. Geweke test with length 100 doesn't show the chain has converged. Geweke test with length 500 shows the chain has converged. As we can see from the trace plot, the minimum segment length should be longer than a few hundreds in unit of iterations since the frequency of observing a quantum jump (-6 to 6 or 6 to -6) is approximately ~ 300 iterations on average. Otherwise, as seen in the bottom-left plot where the segment length of 100 is used, Geweke test produces the bad estimate regarding the convergence when the samples in certain segment only stay either at $x \\sim -6$ or at $x\\sim 6$ range. "
     ]
    },
    {
     "cell_type": "code",
     "collapsed": false,
     "input": [
      "burnin = 3000\n",
      "geweke100 = Geweke(result[burnin:], 7, 100)\n",
      "geweke500 = Geweke(result[burnin:], 7, 500)\n",
      "\n",
      "plt.figure(1)\n",
      "plt.subplot(211)\n",
      "plt.plot(geweke100)\n",
      "\n",
      "plt.subplot(212)\n",
      "plt.plot(geweke500)\n",
      "plt.ylim((-2,2))\n",
      "plt.show()"
     ],
     "language": "python",
     "metadata": {},
     "outputs": [
      {
       "metadata": {},
       "output_type": "display_data",
       "png": "[encoded data removed]",
       "text": [
        "<matplotlib.figure.Figure at 0x105ab4510>"
       ]
      }
     ],
     "prompt_number": 92
    },
    {
     "cell_type": "markdown",
     "metadata": {},
     "source": [
      "With this larger stepsize, the histogram looks better and is more similar to the real result."
     ]
    },
    {
     "cell_type": "code",
     "collapsed": false,
     "input": [
      "plt.hist(result[burnin:N], bins = 20)\n",
      "plt.show()"
     ],
     "language": "python",
     "metadata": {},
     "outputs": [
      {
       "metadata": {},
       "output_type": "display_data",
       "png": "[encoded data removed]",
       "text": [
        "<matplotlib.figure.Figure at 0x105b7d210>"
       ]
      }
     ],
     "prompt_number": 93
    },
    {
     "cell_type": "code",
     "collapsed": false,
     "input": [
      "result_partf = result[burnin:].copy()"
     ],
     "language": "python",
     "metadata": {},
     "outputs": [],
     "prompt_number": 94
    },
    {
     "cell_type": "markdown",
     "metadata": {},
     "source": [
      "Now we look at the results from the geweke function from pymc package. For Part b, before and after burn-in. The Geweke test gives different results."
     ]
    },
    {
     "cell_type": "code",
     "collapsed": false,
     "input": [
      "import pymc as pm\n",
      "geweke_partb1 = pm.geweke(result_partb1, first=0.1, last=0.5, intervals=20)\n",
      "geweke_partb2 = pm.geweke(result_partb2, first=0.1, last=0.5, intervals=20)\n",
      "\n",
      "pm.Matplot.geweke_plot(geweke_partb1, 'x')\n",
      "plt.show()\n",
      "pm.Matplot.geweke_plot(geweke_partb2, 'x')\n",
      "plt.show()\n"
     ],
     "language": "python",
     "metadata": {},
     "outputs": [
      {
       "metadata": {},
       "output_type": "display_data",
       "png": "[encoded data removed]",
       "text": [
        "<matplotlib.figure.Figure at 0x10bc00ad0>"
       ]
      },
      {
       "metadata": {},
       "output_type": "display_data",
       "png": "[encoded data removed]",
       "text": [
        "<matplotlib.figure.Figure at 0x10c589710>"
       ]
      }
     ],
     "prompt_number": 16
    },
    {
     "cell_type": "markdown",
     "metadata": {},
     "source": [
      "Part d. Seemingly convergence based on Geweke test."
     ]
    },
    {
     "cell_type": "code",
     "collapsed": false,
     "input": [
      "geweke_partd = pm.geweke(result_partd, first=0.1, last=0.5, intervals=10)\n",
      "\n",
      "pm.Matplot.geweke_plot(geweke_partd, 'x')\n",
      "plt.show()"
     ],
     "language": "python",
     "metadata": {},
     "outputs": [
      {
       "metadata": {},
       "output_type": "display_data",
       "png": "[encoded data removed]",
       "text": [
        "<matplotlib.figure.Figure at 0x10cb69e50>"
       ]
      }
     ],
     "prompt_number": 17
    },
    {
     "cell_type": "markdown",
     "metadata": {},
     "source": [
      "Part f. "
     ]
    },
    {
     "cell_type": "code",
     "collapsed": false,
     "input": [
      "geweke_partf100 = pm.geweke(result_partf, first=0.1, last=0.5, intervals=50)\n",
      "geweke_partf500 = pm.geweke(result_partf, first=0.1, last=0.5, intervals=10)\n",
      "\n",
      "pm.Matplot.geweke_plot(geweke_partf100, 'x')\n",
      "plt.show()\n",
      "pm.Matplot.geweke_plot(geweke_partf500, 'x')\n",
      "plt.show()"
     ],
     "language": "python",
     "metadata": {},
     "outputs": [
      {
       "metadata": {},
       "output_type": "display_data",
       "png": "[encoded data removed]",
       "text": [
        "<matplotlib.figure.Figure at 0x10c134250>"
       ]
      },
      {
       "metadata": {},
       "output_type": "display_data",
       "png": "[encoded data removed]",
       "text": [
        "<matplotlib.figure.Figure at 0x10bf299d0>"
       ]
      }
     ],
     "prompt_number": 19
    },
    {
     "cell_type": "heading",
     "level": 3,
     "metadata": {},
     "source": [
      "Question 2: Thinning of Chains"
     ]
    },
    {
     "cell_type": "markdown",
     "metadata": {},
     "source": [
      "The Rosenbrock 'Banana' Function is a good test of the ability of a technique to sample the full parameter space.\n",
      "Consider the following example of a Banana PDF:\n",
      "\n",
      "$ p(X) \\propto {\\rm exp} \\left[ - \\frac{1}{2a^2} \\left(\\sqrt{x_1^2 + x_2^2} -1 \\right)^2 -  \\frac{1}{2b^2} \\left(x_2  - 1 \\right)^2  \\right] $ where $a=0.1$ and $b=1$.\n",
      "\n",
      "(a) Using the proposal function,\n",
      "\n",
      "$q(Y|X) = \\frac{1}{\\sqrt{2 \\pi \\gamma^2}} {\\rm exp}\\left[-\\frac{1}{2 \\gamma^2} ((y_1-x_1)^2+(y_2-x_2)^2) \\right] $ \n",
      "\n",
      "with $\\gamma = 1$, construct an M-H algorithm to generate $N=10,000$ samples from $p(X)$. Let the starting point be $X=(-1,0)$. Plot the results and identify an appropriate burn-in sample size.\n",
      "\n",
      "(b) The effective sample size of an M-H result is defined as:\n",
      "\n",
      "$\\rm{N_{eff}} =\\frac{N}{1+2\\sum_{t=1}^\\infty \\rho_t}$ \n",
      "\n",
      "where $\\rho_t = cor(X_i, X_{i+t})$  is the autocorrelation of the sequence at lag t. For simplicity, we only consider the chain of $x_2$, that is $\\rho_t = cor(x_{i,2}, x_{i+t,2})$ [HINT: Python's numpy.corrcoef computes correlation]. Compute the effective sample size of the M-H samples above. For simplicity, let\n",
      "\n",
      "$\\rm{N_{eff}} =\\frac{N}{1+2\\sum_{t=1}^{100} \\rho_t}$. \n",
      "\n",
      "(c) Compute the sample mean of $x_2$ as $\\bar{x}_2$. Repeat (a) for $N_s=100$ times and calculate the variance of $\\bar{x}_2$. For simplicity, use the same burn-in sample size.\n",
      "\n",
      "(d) Perform the thinning M-H algorithm, using 1 out of every 10 samples. Construct an M-H algorithm that yields $N=10,000$ samples (after thinning). Plot the results and choose an appropriate sample size.\n",
      "\n",
      "(e) Compute the effective sample size for the M-H algorithm and compare it with the result from (b). Do you see any difference? If so, explain why.\n",
      "\n",
      "(f) Repeat (c) with the thinning M-H algorithm and compare the two variances from (c) and (f). Do you see any difference? If so, explain why."
     ]
    },
    {
     "cell_type": "heading",
     "level": 3,
     "metadata": {},
     "source": [
      "Solutions:"
     ]
    },
    {
     "cell_type": "markdown",
     "metadata": {},
     "source": [
      "(a) First we visualize $p(X)$. $p(X)$ is the famous 'Banana' shape problem in Metropolis Hasting. Similar as the two modes density in Question 1, the 'Banana' shape problem also has the problem of efficient mixing of the chains. We use $\\log (p(x))$ instead of $p(x)$ itself to avoid possible rounding errors."
     ]
    },
    {
     "cell_type": "code",
     "collapsed": false,
     "input": [
      "# defin log(p(x))\n",
      "def logp(x1, x2):\n",
      "    return -(np.sqrt(x1**2+x2**2)-1)**2/(2*0.1**2) - (x2-1)**2/2"
     ],
     "language": "python",
     "metadata": {},
     "outputs": [],
     "prompt_number": 2
    },
    {
     "cell_type": "code",
     "collapsed": false,
     "input": [
      "foo=200\n",
      "x = np.linspace(-1.5,1.5,foo)\n",
      "y = np.linspace(-1.5,1.5,foo)\n",
      "xx,yy = np.meshgrid(x,y) # Define a mesh grid in the region of interest\n",
      "zz=np.zeros((foo,foo))\n",
      "for i in np.arange(0,foo):\n",
      "    for j in np.arange(0,foo):\n",
      "        zz[i,j] = np.exp(logp(xx[i,j],yy[i,j])) # Populate the mesh\n",
      "\n",
      "plt.contour(xx,yy,zz)\n",
      "plt.show()"
     ],
     "language": "python",
     "metadata": {},
     "outputs": [
      {
       "metadata": {},
       "output_type": "display_data",
       "png": "[encoded data removed]",
       "text": [
        "<matplotlib.figure.Figure at 0x105b5b8d0>"
       ]
      }
     ],
     "prompt_number": 3
    },
    {
     "cell_type": "markdown",
     "metadata": {},
     "source": [
      "(b) We run the M-H algorithm with a starting point at $(-1,0)$ and proposal distribution $q(Y|X) = \\frac{1}{\\sqrt{2 \\pi}} {\\rm exp}\\left[-\\frac{1}{2} ((y_1-x_1)^2+(y_2-x_2)^2) \\right]$ . We choose $N=10,000$."
     ]
    },
    {
     "cell_type": "code",
     "collapsed": false,
     "input": [
      "# defind M-H algorithm\n",
      "def mcmc(X0, N, sigma):\n",
      "    acc = 0.0\n",
      "    result = np.zeros((N, 2))\n",
      "    r = np.random.random(N)\n",
      "    for i in xrange(N):\n",
      "        x1 = np.random.normal(X0[0], sigma)\n",
      "        x2 = np.random.normal(X0[1], sigma)\n",
      "        p = logp(x1, x2)-logp(X0[0], X0[1])\n",
      "        if np.log(r[i]) < p:\n",
      "            acc += 1\n",
      "            X0[0] = x1\n",
      "            X0[1] = x2\n",
      "        result[i,:] = X0\n",
      "    print \"Accpetance rate is \" + str(acc/N)+'.'\n",
      "    return result"
     ],
     "language": "python",
     "metadata": {},
     "outputs": [],
     "prompt_number": 9
    },
    {
     "cell_type": "markdown",
     "metadata": {},
     "source": [
      "We visualize the sampling results and the trace plot of $x_2$. The scatter plot is very dim with some very bright points. This is because the acceptance rate is low."
     ]
    },
    {
     "cell_type": "code",
     "collapsed": false,
     "input": [
      "X0=[-1,0]\n",
      "N=10000\n",
      "sigma=1\n",
      "size = 10\n",
      "result = mcmc(X0, N, sigma)\n",
      "burnin = 1000\n",
      "plt.hist2d(result[burnin:N,0], result[burnin:N,1], normed=True, bins=100)\n",
      "plt.show()"
     ],
     "language": "python",
     "metadata": {},
     "outputs": [
      {
       "output_type": "stream",
       "stream": "stdout",
       "text": [
        "Accpetance rate is 0.1333.\n"
       ]
      },
      {
       "metadata": {},
       "output_type": "display_data",
       "png": "[encoded data removed]",
       "text": [
        "<matplotlib.figure.Figure at 0x105b5da50>"
       ]
      }
     ],
     "prompt_number": 10
    },
    {
     "cell_type": "code",
     "collapsed": false,
     "input": [
      "plt.plot(result[:,1])\n",
      "plt.show()"
     ],
     "language": "python",
     "metadata": {},
     "outputs": [
      {
       "metadata": {},
       "output_type": "display_data",
       "png": "[encoded data removed]",
       "text": [
        "<matplotlib.figure.Figure at 0x105a75950>"
       ]
      }
     ],
     "prompt_number": 25
    },
    {
     "cell_type": "markdown",
     "metadata": {},
     "source": [
      "(c) The effective sample size is defined as $\\rm{N_{eff}} =\\frac{N}{1+2\\sum_{t=1}^{\\infty} \\rho_t}$ with $\\rho_t = cor(X_i, X_{i+t})$ . In this problem, we choose $\\rm{N_{eff}} =\\frac{N}{1+2\\sum_{t=1}^{100} \\rho_t}$ to approximate the real value. We use **np.corrcoef** to calculate the correlation with lag t. The effective sample is around 350. It's very small compared to the total number of samples. The chain is highly autocorrelated."
     ]
    },
    {
     "cell_type": "code",
     "collapsed": false,
     "input": [
      "# autocorrelation with lag t\n",
      "def rhot(x, t):\n",
      "    n = len(x)\n",
      "    return np.corrcoef(x[0:(n-t)], x[t:n])[0,1]"
     ],
     "language": "python",
     "metadata": {},
     "outputs": [],
     "prompt_number": 2
    },
    {
     "cell_type": "code",
     "collapsed": false,
     "input": [
      "# effective sample size\n",
      "def neff(x, T):\n",
      "    n = len(x)\n",
      "    rho = 1.0\n",
      "    for i in xrange(T):\n",
      "        rho += 2*rhot(x, i+1)\n",
      "    return n/rho"
     ],
     "language": "python",
     "metadata": {},
     "outputs": [],
     "prompt_number": 31
    },
    {
     "cell_type": "code",
     "collapsed": false,
     "input": [
      "Neff = neff(result[burnin:N,1], 100)\n",
      "print Neff"
     ],
     "language": "python",
     "metadata": {},
     "outputs": [
      {
       "output_type": "stream",
       "stream": "stdout",
       "text": [
        "317.628081684\n"
       ]
      }
     ],
     "prompt_number": 28
    },
    {
     "cell_type": "markdown",
     "metadata": {},
     "source": [
      "(d) Now, we find the mean of $x_2$ for $N_s=100$ repeated M-H samples. We could estimate $\\bar{x}_2$ by the sample mean of the chain. We repeat the sampling for 100 times and calculate the variance of the estimated sample mean. The problem is not clear whether we should choose the same starting point. In fact using a same starting point might cause a same problem as in Question 1(d). We randomly sample the starting point from the square $[-1,1]^2$.  The variance of the mean is around 0.001."
     ]
    },
    {
     "cell_type": "code",
     "collapsed": false,
     "input": [
      "# find mean of repeat samples\n",
      "def findmean(N, sigma, N_s, burnin):\n",
      "    res = np.zeros(N_s)\n",
      "    for i in xrange(N_s):\n",
      "        x0 = np.random.uniform(-1,1,size=2)\n",
      "        result = mcmc([0,0], N, sigma)\n",
      "        res[i] = result[burnin:N,1].mean()\n",
      "    return np.var(res)"
     ],
     "language": "python",
     "metadata": {},
     "outputs": [],
     "prompt_number": 34
    },
    {
     "cell_type": "code",
     "collapsed": false,
     "input": [
      "N_s = 100\n",
      "var = findmean(N, sigma, N_s, burnin)\n",
      "print \"The variance of mean(x2) from the 100 chains is \"+ str(var) +\".\""
     ],
     "language": "python",
     "metadata": {},
     "outputs": [
      {
       "output_type": "stream",
       "stream": "stdout",
       "text": [
        "Accpetance rate is 0.1301.\n",
        "Accpetance rate is 0.1323."
       ]
      },
      {
       "output_type": "stream",
       "stream": "stdout",
       "text": [
        "\n",
        "Accpetance rate is 0.125."
       ]
      },
      {
       "output_type": "stream",
       "stream": "stdout",
       "text": [
        "\n",
        "Accpetance rate is 0.121."
       ]
      },
      {
       "output_type": "stream",
       "stream": "stdout",
       "text": [
        "\n",
        "Accpetance rate is 0.1262."
       ]
      },
      {
       "output_type": "stream",
       "stream": "stdout",
       "text": [
        "\n",
        "Accpetance rate is 0.1314."
       ]
      },
      {
       "output_type": "stream",
       "stream": "stdout",
       "text": [
        "\n",
        "Accpetance rate is 0.1278."
       ]
      },
      {
       "output_type": "stream",
       "stream": "stdout",
       "text": [
        "\n",
        "Accpetance rate is 0.1278."
       ]
      },
      {
       "output_type": "stream",
       "stream": "stdout",
       "text": [
        "\n",
        "Accpetance rate is 0.1313."
       ]
      },
      {
       "output_type": "stream",
       "stream": "stdout",
       "text": [
        "\n",
        "Accpetance rate is 0.1327."
       ]
      },
      {
       "output_type": "stream",
       "stream": "stdout",
       "text": [
        "\n",
        "Accpetance rate is 0.1255."
       ]
      },
      {
       "output_type": "stream",
       "stream": "stdout",
       "text": [
        "\n",
        "Accpetance rate is 0.1301."
       ]
      },
      {
       "output_type": "stream",
       "stream": "stdout",
       "text": [
        "\n",
        "Accpetance rate is 0.1349."
       ]
      },
      {
       "output_type": "stream",
       "stream": "stdout",
       "text": [
        "\n",
        "Accpetance rate is 0.1237."
       ]
      },
      {
       "output_type": "stream",
       "stream": "stdout",
       "text": [
        "\n",
        "Accpetance rate is 0.1306."
       ]
      },
      {
       "output_type": "stream",
       "stream": "stdout",
       "text": [
        "\n",
        "Accpetance rate is 0.1306."
       ]
      },
      {
       "output_type": "stream",
       "stream": "stdout",
       "text": [
        "\n",
        "Accpetance rate is 0.1309."
       ]
      },
      {
       "output_type": "stream",
       "stream": "stdout",
       "text": [
        "\n",
        "Accpetance rate is 0.1279."
       ]
      },
      {
       "output_type": "stream",
       "stream": "stdout",
       "text": [
        "\n",
        "Accpetance rate is 0.1241."
       ]
      },
      {
       "output_type": "stream",
       "stream": "stdout",
       "text": [
        "\n",
        "Accpetance rate is 0.128."
       ]
      },
      {
       "output_type": "stream",
       "stream": "stdout",
       "text": [
        "\n",
        "Accpetance rate is 0.1401."
       ]
      },
      {
       "output_type": "stream",
       "stream": "stdout",
       "text": [
        "\n",
        "Accpetance rate is 0.1302."
       ]
      },
      {
       "output_type": "stream",
       "stream": "stdout",
       "text": [
        "\n",
        "Accpetance rate is 0.1308."
       ]
      },
      {
       "output_type": "stream",
       "stream": "stdout",
       "text": [
        "\n",
        "Accpetance rate is 0.1366."
       ]
      },
      {
       "output_type": "stream",
       "stream": "stdout",
       "text": [
        "\n",
        "Accpetance rate is 0.1296."
       ]
      },
      {
       "output_type": "stream",
       "stream": "stdout",
       "text": [
        "\n",
        "Accpetance rate is 0.1304."
       ]
      },
      {
       "output_type": "stream",
       "stream": "stdout",
       "text": [
        "\n",
        "Accpetance rate is 0.135."
       ]
      },
      {
       "output_type": "stream",
       "stream": "stdout",
       "text": [
        "\n",
        "Accpetance rate is 0.1231."
       ]
      },
      {
       "output_type": "stream",
       "stream": "stdout",
       "text": [
        "\n",
        "Accpetance rate is 0.1261."
       ]
      },
      {
       "output_type": "stream",
       "stream": "stdout",
       "text": [
        "\n",
        "Accpetance rate is 0.1246."
       ]
      },
      {
       "output_type": "stream",
       "stream": "stdout",
       "text": [
        "\n",
        "Accpetance rate is 0.1306."
       ]
      },
      {
       "output_type": "stream",
       "stream": "stdout",
       "text": [
        "\n",
        "Accpetance rate is 0.1266."
       ]
      },
      {
       "output_type": "stream",
       "stream": "stdout",
       "text": [
        "\n",
        "Accpetance rate is 0.1247."
       ]
      },
      {
       "output_type": "stream",
       "stream": "stdout",
       "text": [
        "\n",
        "Accpetance rate is 0.1257."
       ]
      },
      {
       "output_type": "stream",
       "stream": "stdout",
       "text": [
        "\n",
        "Accpetance rate is 0.1289."
       ]
      },
      {
       "output_type": "stream",
       "stream": "stdout",
       "text": [
        "\n",
        "Accpetance rate is 0.1333."
       ]
      },
      {
       "output_type": "stream",
       "stream": "stdout",
       "text": [
        "\n",
        "Accpetance rate is 0.1287."
       ]
      },
      {
       "output_type": "stream",
       "stream": "stdout",
       "text": [
        "\n",
        "Accpetance rate is 0.1286."
       ]
      },
      {
       "output_type": "stream",
       "stream": "stdout",
       "text": [
        "\n",
        "Accpetance rate is 0.1297."
       ]
      },
      {
       "output_type": "stream",
       "stream": "stdout",
       "text": [
        "\n",
        "Accpetance rate is 0.1228."
       ]
      },
      {
       "output_type": "stream",
       "stream": "stdout",
       "text": [
        "\n",
        "Accpetance rate is 0.1303."
       ]
      },
      {
       "output_type": "stream",
       "stream": "stdout",
       "text": [
        "\n",
        "Accpetance rate is 0.136."
       ]
      },
      {
       "output_type": "stream",
       "stream": "stdout",
       "text": [
        "\n",
        "Accpetance rate is 0.1281."
       ]
      },
      {
       "output_type": "stream",
       "stream": "stdout",
       "text": [
        "\n",
        "Accpetance rate is 0.1304."
       ]
      },
      {
       "output_type": "stream",
       "stream": "stdout",
       "text": [
        "\n",
        "Accpetance rate is 0.133."
       ]
      },
      {
       "output_type": "stream",
       "stream": "stdout",
       "text": [
        "\n",
        "Accpetance rate is 0.1245."
       ]
      },
      {
       "output_type": "stream",
       "stream": "stdout",
       "text": [
        "\n",
        "Accpetance rate is 0.1243."
       ]
      },
      {
       "output_type": "stream",
       "stream": "stdout",
       "text": [
        "\n",
        "Accpetance rate is 0.1228."
       ]
      },
      {
       "output_type": "stream",
       "stream": "stdout",
       "text": [
        "\n",
        "Accpetance rate is 0.1209."
       ]
      },
      {
       "output_type": "stream",
       "stream": "stdout",
       "text": [
        "\n",
        "Accpetance rate is 0.1352."
       ]
      },
      {
       "output_type": "stream",
       "stream": "stdout",
       "text": [
        "\n",
        "Accpetance rate is 0.1268."
       ]
      },
      {
       "output_type": "stream",
       "stream": "stdout",
       "text": [
        "\n",
        "Accpetance rate is 0.1283."
       ]
      },
      {
       "output_type": "stream",
       "stream": "stdout",
       "text": [
        "\n",
        "Accpetance rate is 0.1225."
       ]
      },
      {
       "output_type": "stream",
       "stream": "stdout",
       "text": [
        "\n",
        "Accpetance rate is 0.132."
       ]
      },
      {
       "output_type": "stream",
       "stream": "stdout",
       "text": [
        "\n",
        "Accpetance rate is 0.126."
       ]
      },
      {
       "output_type": "stream",
       "stream": "stdout",
       "text": [
        "\n",
        "Accpetance rate is 0.1329."
       ]
      },
      {
       "output_type": "stream",
       "stream": "stdout",
       "text": [
        "\n",
        "Accpetance rate is 0.1232."
       ]
      },
      {
       "output_type": "stream",
       "stream": "stdout",
       "text": [
        "\n",
        "Accpetance rate is 0.1325."
       ]
      },
      {
       "output_type": "stream",
       "stream": "stdout",
       "text": [
        "\n",
        "Accpetance rate is 0.1296."
       ]
      },
      {
       "output_type": "stream",
       "stream": "stdout",
       "text": [
        "\n",
        "Accpetance rate is 0.1284."
       ]
      },
      {
       "output_type": "stream",
       "stream": "stdout",
       "text": [
        "\n",
        "Accpetance rate is 0.1298."
       ]
      },
      {
       "output_type": "stream",
       "stream": "stdout",
       "text": [
        "\n",
        "Accpetance rate is 0.1302."
       ]
      },
      {
       "output_type": "stream",
       "stream": "stdout",
       "text": [
        "\n",
        "Accpetance rate is 0.1277."
       ]
      },
      {
       "output_type": "stream",
       "stream": "stdout",
       "text": [
        "\n",
        "Accpetance rate is 0.1295."
       ]
      },
      {
       "output_type": "stream",
       "stream": "stdout",
       "text": [
        "\n",
        "Accpetance rate is 0.1355."
       ]
      },
      {
       "output_type": "stream",
       "stream": "stdout",
       "text": [
        "\n",
        "Accpetance rate is 0.1246."
       ]
      },
      {
       "output_type": "stream",
       "stream": "stdout",
       "text": [
        "\n",
        "Accpetance rate is 0.1314."
       ]
      },
      {
       "output_type": "stream",
       "stream": "stdout",
       "text": [
        "\n",
        "Accpetance rate is 0.1205."
       ]
      },
      {
       "output_type": "stream",
       "stream": "stdout",
       "text": [
        "\n",
        "Accpetance rate is 0.129."
       ]
      },
      {
       "output_type": "stream",
       "stream": "stdout",
       "text": [
        "\n",
        "Accpetance rate is 0.1247."
       ]
      },
      {
       "output_type": "stream",
       "stream": "stdout",
       "text": [
        "\n",
        "Accpetance rate is 0.1261."
       ]
      },
      {
       "output_type": "stream",
       "stream": "stdout",
       "text": [
        "\n",
        "Accpetance rate is 0.1278."
       ]
      },
      {
       "output_type": "stream",
       "stream": "stdout",
       "text": [
        "\n",
        "Accpetance rate is 0.1285."
       ]
      },
      {
       "output_type": "stream",
       "stream": "stdout",
       "text": [
        "\n",
        "Accpetance rate is 0.1229."
       ]
      },
      {
       "output_type": "stream",
       "stream": "stdout",
       "text": [
        "\n",
        "Accpetance rate is 0.1289."
       ]
      },
      {
       "output_type": "stream",
       "stream": "stdout",
       "text": [
        "\n",
        "Accpetance rate is 0.1276."
       ]
      },
      {
       "output_type": "stream",
       "stream": "stdout",
       "text": [
        "\n",
        "Accpetance rate is 0.1325."
       ]
      },
      {
       "output_type": "stream",
       "stream": "stdout",
       "text": [
        "\n",
        "Accpetance rate is 0.1283."
       ]
      },
      {
       "output_type": "stream",
       "stream": "stdout",
       "text": [
        "\n",
        "Accpetance rate is 0.1256."
       ]
      },
      {
       "output_type": "stream",
       "stream": "stdout",
       "text": [
        "\n",
        "Accpetance rate is 0.131."
       ]
      },
      {
       "output_type": "stream",
       "stream": "stdout",
       "text": [
        "\n",
        "Accpetance rate is 0.1318."
       ]
      },
      {
       "output_type": "stream",
       "stream": "stdout",
       "text": [
        "\n",
        "Accpetance rate is 0.123."
       ]
      },
      {
       "output_type": "stream",
       "stream": "stdout",
       "text": [
        "\n",
        "Accpetance rate is 0.1391."
       ]
      },
      {
       "output_type": "stream",
       "stream": "stdout",
       "text": [
        "\n",
        "Accpetance rate is 0.1261."
       ]
      },
      {
       "output_type": "stream",
       "stream": "stdout",
       "text": [
        "\n",
        "Accpetance rate is 0.1264."
       ]
      },
      {
       "output_type": "stream",
       "stream": "stdout",
       "text": [
        "\n",
        "Accpetance rate is 0.1312."
       ]
      },
      {
       "output_type": "stream",
       "stream": "stdout",
       "text": [
        "\n",
        "Accpetance rate is 0.1291."
       ]
      },
      {
       "output_type": "stream",
       "stream": "stdout",
       "text": [
        "\n",
        "Accpetance rate is 0.1133."
       ]
      },
      {
       "output_type": "stream",
       "stream": "stdout",
       "text": [
        "\n",
        "Accpetance rate is 0.1367."
       ]
      },
      {
       "output_type": "stream",
       "stream": "stdout",
       "text": [
        "\n",
        "Accpetance rate is 0.1365."
       ]
      },
      {
       "output_type": "stream",
       "stream": "stdout",
       "text": [
        "\n",
        "Accpetance rate is 0.135."
       ]
      },
      {
       "output_type": "stream",
       "stream": "stdout",
       "text": [
        "\n",
        "Accpetance rate is 0.1295."
       ]
      },
      {
       "output_type": "stream",
       "stream": "stdout",
       "text": [
        "\n",
        "Accpetance rate is 0.13."
       ]
      },
      {
       "output_type": "stream",
       "stream": "stdout",
       "text": [
        "\n",
        "Accpetance rate is 0.1255."
       ]
      },
      {
       "output_type": "stream",
       "stream": "stdout",
       "text": [
        "\n",
        "Accpetance rate is 0.1317."
       ]
      },
      {
       "output_type": "stream",
       "stream": "stdout",
       "text": [
        "\n",
        "Accpetance rate is 0.1239."
       ]
      },
      {
       "output_type": "stream",
       "stream": "stdout",
       "text": [
        "\n",
        "Accpetance rate is 0.124."
       ]
      },
      {
       "output_type": "stream",
       "stream": "stdout",
       "text": [
        "\n",
        "Accpetance rate is 0.1287."
       ]
      },
      {
       "output_type": "stream",
       "stream": "stdout",
       "text": [
        "\n",
        "Accpetance rate is 0.1262."
       ]
      },
      {
       "output_type": "stream",
       "stream": "stdout",
       "text": [
        "\n",
        "Accpetance rate is 0.1268."
       ]
      },
      {
       "output_type": "stream",
       "stream": "stdout",
       "text": [
        "\n",
        "The variance of mean(x2) from the 100 chains is 0.000935426259193.\n"
       ]
      }
     ],
     "prompt_number": 35
    },
    {
     "cell_type": "markdown",
     "metadata": {},
     "source": [
      "(e) We perform the thinning M-H algorithm. We choose one point from every ten points. The plot is brighter than before. We could see that fewer points are stuck at certain positions. The acceptance rate doesn't increase. "
     ]
    },
    {
     "cell_type": "code",
     "collapsed": false,
     "input": [
      "def mcmcthin(X0, N, size, sigma):\n",
      "    acc = 0.0\n",
      "    result = np.zeros((N,2))\n",
      "    r = np.random.random(N*size)\n",
      "    for i in xrange(N):\n",
      "        for j in xrange(size):\n",
      "            x1 = np.random.normal(X0[0], sigma)\n",
      "            x2 = np.random.normal(X0[1], sigma)\n",
      "            p = logp(x1, x2)-logp(X0[0], X0[1])\n",
      "            if np.log(r[i]) < p:\n",
      "                acc += 1\n",
      "                X0[0] = x1\n",
      "                X0[1] = x2\n",
      "        result[i,:] = X0\n",
      "    print \"Acceptance rate is \"+str(acc/N/10)+\".\"\n",
      "    return result"
     ],
     "language": "python",
     "metadata": {},
     "outputs": [],
     "prompt_number": 26
    },
    {
     "cell_type": "code",
     "collapsed": false,
     "input": [
      "X0=[-1,0]\n",
      "N=10000\n",
      "sigma=1\n",
      "result = mcmcthin(X0, N,size, sigma)\n",
      "burnin = 1000\n",
      "plt.hist2d(result[burnin:N,0], result[burnin:N,1], normed=True, bins=100)\n",
      "plt.show()"
     ],
     "language": "python",
     "metadata": {},
     "outputs": [
      {
       "output_type": "stream",
       "stream": "stdout",
       "text": [
        "Acceptance rate is 0.12403.\n"
       ]
      },
      {
       "metadata": {},
       "output_type": "display_data",
       "png": "[encoded data removed]",
       "text": [
        "<matplotlib.figure.Figure at 0x1039e7b10>"
       ]
      }
     ],
     "prompt_number": 27
    },
    {
     "cell_type": "markdown",
     "metadata": {},
     "source": [
      "Similarly, we plot the trace plot of $x_2$ and choose the burnin size as 1000."
     ]
    },
    {
     "cell_type": "code",
     "collapsed": false,
     "input": [
      "plt.plot(result[:,1])\n",
      "plt.show()"
     ],
     "language": "python",
     "metadata": {},
     "outputs": [
      {
       "metadata": {},
       "output_type": "display_data",
       "png": "[encoded data removed]",
       "text": [
        "<matplotlib.figure.Figure at 0x105b94b50>"
       ]
      }
     ],
     "prompt_number": 28
    },
    {
     "cell_type": "markdown",
     "metadata": {},
     "source": [
      "(f) Similarly we compute the effective sample size of the thinning chain. The effective sample size is around 2500 now. It's much large than that in (b). It's bacause the thinning M-H algorithm reduces the autocorrelation."
     ]
    },
    {
     "cell_type": "code",
     "collapsed": false,
     "input": [
      "Neff = neff(result[burnin:N,1], 100)\n",
      "print Neff"
     ],
     "language": "python",
     "metadata": {},
     "outputs": [
      {
       "output_type": "stream",
       "stream": "stdout",
       "text": [
        "2859.94349479\n"
       ]
      }
     ],
     "prompt_number": 32
    },
    {
     "cell_type": "markdown",
     "metadata": {},
     "source": [
      "(g) Now, we find the mean of $x_2$ for $N_s=100$ repeated M-H samples. The variance of the mean is around 0.0001. It's smaller than that in (c). The reason is the thinning M-H algorithm reduces the autocorrelation. We also choose random starting points here."
     ]
    },
    {
     "cell_type": "code",
     "collapsed": false,
     "input": [
      "def findmeanthin(N, size, sigma, N_s, burnin):\n",
      "    res = np.zeros(N_s)\n",
      "    for i in xrange(N_s):\n",
      "        x0 = np.random.uniform(-1,1,size=2)\n",
      "        result = mcmcthin([0,0], N, size, sigma)\n",
      "        res[i] = result[burnin:N,1].mean()\n",
      "    return np.var(res)"
     ],
     "language": "python",
     "metadata": {},
     "outputs": [],
     "prompt_number": 36
    },
    {
     "cell_type": "code",
     "collapsed": false,
     "input": [
      "N_s = 100\n",
      "size = 10\n",
      "var = findmeanthin(N, size, sigma, N_s, burnin)\n",
      "print var"
     ],
     "language": "python",
     "metadata": {},
     "outputs": [
      {
       "output_type": "stream",
       "stream": "stdout",
       "text": [
        "Acceptance rate is 0.12385.\n",
        "Acceptance rate is 0.12195."
       ]
      },
      {
       "output_type": "stream",
       "stream": "stdout",
       "text": [
        "\n",
        "Acceptance rate is 0.12311."
       ]
      },
      {
       "output_type": "stream",
       "stream": "stdout",
       "text": [
        "\n",
        "Acceptance rate is 0.12425."
       ]
      },
      {
       "output_type": "stream",
       "stream": "stdout",
       "text": [
        "\n",
        "Acceptance rate is 0.1218."
       ]
      },
      {
       "output_type": "stream",
       "stream": "stdout",
       "text": [
        "\n",
        "Acceptance rate is 0.12216."
       ]
      },
      {
       "output_type": "stream",
       "stream": "stdout",
       "text": [
        "\n",
        "Acceptance rate is 0.12322."
       ]
      },
      {
       "output_type": "stream",
       "stream": "stdout",
       "text": [
        "\n",
        "Acceptance rate is 0.12264."
       ]
      },
      {
       "output_type": "stream",
       "stream": "stdout",
       "text": [
        "\n",
        "Acceptance rate is 0.12246."
       ]
      },
      {
       "output_type": "stream",
       "stream": "stdout",
       "text": [
        "\n",
        "Acceptance rate is 0.12296."
       ]
      },
      {
       "output_type": "stream",
       "stream": "stdout",
       "text": [
        "\n",
        "Acceptance rate is 0.12463."
       ]
      },
      {
       "output_type": "stream",
       "stream": "stdout",
       "text": [
        "\n",
        "Acceptance rate is 0.12481."
       ]
      },
      {
       "output_type": "stream",
       "stream": "stdout",
       "text": [
        "\n",
        "Acceptance rate is 0.12423."
       ]
      },
      {
       "output_type": "stream",
       "stream": "stdout",
       "text": [
        "\n",
        "Acceptance rate is 0.12336."
       ]
      },
      {
       "output_type": "stream",
       "stream": "stdout",
       "text": [
        "\n",
        "Acceptance rate is 0.12035."
       ]
      },
      {
       "output_type": "stream",
       "stream": "stdout",
       "text": [
        "\n",
        "Acceptance rate is 0.12432."
       ]
      },
      {
       "output_type": "stream",
       "stream": "stdout",
       "text": [
        "\n",
        "Acceptance rate is 0.12271."
       ]
      },
      {
       "output_type": "stream",
       "stream": "stdout",
       "text": [
        "\n",
        "Acceptance rate is 0.12338."
       ]
      },
      {
       "output_type": "stream",
       "stream": "stdout",
       "text": [
        "\n",
        "Acceptance rate is 0.12138."
       ]
      },
      {
       "output_type": "stream",
       "stream": "stdout",
       "text": [
        "\n",
        "Acceptance rate is 0.12461."
       ]
      },
      {
       "output_type": "stream",
       "stream": "stdout",
       "text": [
        "\n",
        "Acceptance rate is 0.12332."
       ]
      },
      {
       "output_type": "stream",
       "stream": "stdout",
       "text": [
        "\n",
        "Acceptance rate is 0.12413."
       ]
      },
      {
       "output_type": "stream",
       "stream": "stdout",
       "text": [
        "\n",
        "Acceptance rate is 0.12199."
       ]
      },
      {
       "output_type": "stream",
       "stream": "stdout",
       "text": [
        "\n",
        "Acceptance rate is 0.12562."
       ]
      },
      {
       "output_type": "stream",
       "stream": "stdout",
       "text": [
        "\n",
        "Acceptance rate is 0.12326."
       ]
      },
      {
       "output_type": "stream",
       "stream": "stdout",
       "text": [
        "\n",
        "Acceptance rate is 0.11959."
       ]
      },
      {
       "output_type": "stream",
       "stream": "stdout",
       "text": [
        "\n",
        "Acceptance rate is 0.12338."
       ]
      },
      {
       "output_type": "stream",
       "stream": "stdout",
       "text": [
        "\n",
        "Acceptance rate is 0.123."
       ]
      },
      {
       "output_type": "stream",
       "stream": "stdout",
       "text": [
        "\n",
        "Acceptance rate is 0.12222."
       ]
      },
      {
       "output_type": "stream",
       "stream": "stdout",
       "text": [
        "\n",
        "Acceptance rate is 0.1234."
       ]
      },
      {
       "output_type": "stream",
       "stream": "stdout",
       "text": [
        "\n",
        "Acceptance rate is 0.12272."
       ]
      },
      {
       "output_type": "stream",
       "stream": "stdout",
       "text": [
        "\n",
        "Acceptance rate is 0.12421."
       ]
      },
      {
       "output_type": "stream",
       "stream": "stdout",
       "text": [
        "\n",
        "Acceptance rate is 0.12452."
       ]
      },
      {
       "output_type": "stream",
       "stream": "stdout",
       "text": [
        "\n",
        "Acceptance rate is 0.12383."
       ]
      },
      {
       "output_type": "stream",
       "stream": "stdout",
       "text": [
        "\n",
        "Acceptance rate is 0.12527."
       ]
      },
      {
       "output_type": "stream",
       "stream": "stdout",
       "text": [
        "\n",
        "Acceptance rate is 0.1249."
       ]
      },
      {
       "output_type": "stream",
       "stream": "stdout",
       "text": [
        "\n",
        "Acceptance rate is 0.12244."
       ]
      },
      {
       "output_type": "stream",
       "stream": "stdout",
       "text": [
        "\n",
        "Acceptance rate is 0.12128."
       ]
      },
      {
       "output_type": "stream",
       "stream": "stdout",
       "text": [
        "\n",
        "Acceptance rate is 0.12292."
       ]
      },
      {
       "output_type": "stream",
       "stream": "stdout",
       "text": [
        "\n",
        "Acceptance rate is 0.12173."
       ]
      },
      {
       "output_type": "stream",
       "stream": "stdout",
       "text": [
        "\n",
        "Acceptance rate is 0.12356."
       ]
      },
      {
       "output_type": "stream",
       "stream": "stdout",
       "text": [
        "\n",
        "Acceptance rate is 0.12123."
       ]
      },
      {
       "output_type": "stream",
       "stream": "stdout",
       "text": [
        "\n",
        "Acceptance rate is 0.123."
       ]
      },
      {
       "output_type": "stream",
       "stream": "stdout",
       "text": [
        "\n",
        "Acceptance rate is 0.12469."
       ]
      },
      {
       "output_type": "stream",
       "stream": "stdout",
       "text": [
        "\n",
        "Acceptance rate is 0.12298."
       ]
      },
      {
       "output_type": "stream",
       "stream": "stdout",
       "text": [
        "\n",
        "Acceptance rate is 0.12371."
       ]
      },
      {
       "output_type": "stream",
       "stream": "stdout",
       "text": [
        "\n",
        "Acceptance rate is 0.12309."
       ]
      },
      {
       "output_type": "stream",
       "stream": "stdout",
       "text": [
        "\n",
        "Acceptance rate is 0.12191."
       ]
      },
      {
       "output_type": "stream",
       "stream": "stdout",
       "text": [
        "\n",
        "Acceptance rate is 0.12254."
       ]
      },
      {
       "output_type": "stream",
       "stream": "stdout",
       "text": [
        "\n",
        "Acceptance rate is 0.12464."
       ]
      },
      {
       "output_type": "stream",
       "stream": "stdout",
       "text": [
        "\n",
        "Acceptance rate is 0.1237."
       ]
      },
      {
       "output_type": "stream",
       "stream": "stdout",
       "text": [
        "\n",
        "Acceptance rate is 0.12236."
       ]
      },
      {
       "output_type": "stream",
       "stream": "stdout",
       "text": [
        "\n",
        "Acceptance rate is 0.12491."
       ]
      },
      {
       "output_type": "stream",
       "stream": "stdout",
       "text": [
        "\n",
        "Acceptance rate is 0.12365."
       ]
      },
      {
       "output_type": "stream",
       "stream": "stdout",
       "text": [
        "\n",
        "Acceptance rate is 0.12255."
       ]
      },
      {
       "output_type": "stream",
       "stream": "stdout",
       "text": [
        "\n",
        "Acceptance rate is 0.1241."
       ]
      },
      {
       "output_type": "stream",
       "stream": "stdout",
       "text": [
        "\n",
        "Acceptance rate is 0.12218."
       ]
      },
      {
       "output_type": "stream",
       "stream": "stdout",
       "text": [
        "\n",
        "Acceptance rate is 0.12217."
       ]
      },
      {
       "output_type": "stream",
       "stream": "stdout",
       "text": [
        "\n",
        "Acceptance rate is 0.12314."
       ]
      },
      {
       "output_type": "stream",
       "stream": "stdout",
       "text": [
        "\n",
        "Acceptance rate is 0.12164."
       ]
      },
      {
       "output_type": "stream",
       "stream": "stdout",
       "text": [
        "\n",
        "Acceptance rate is 0.12351."
       ]
      },
      {
       "output_type": "stream",
       "stream": "stdout",
       "text": [
        "\n",
        "Acceptance rate is 0.12584."
       ]
      },
      {
       "output_type": "stream",
       "stream": "stdout",
       "text": [
        "\n",
        "Acceptance rate is 0.12485."
       ]
      },
      {
       "output_type": "stream",
       "stream": "stdout",
       "text": [
        "\n",
        "Acceptance rate is 0.12249."
       ]
      },
      {
       "output_type": "stream",
       "stream": "stdout",
       "text": [
        "\n",
        "Acceptance rate is 0.12355."
       ]
      },
      {
       "output_type": "stream",
       "stream": "stdout",
       "text": [
        "\n",
        "Acceptance rate is 0.12206."
       ]
      },
      {
       "output_type": "stream",
       "stream": "stdout",
       "text": [
        "\n",
        "Acceptance rate is 0.12575."
       ]
      },
      {
       "output_type": "stream",
       "stream": "stdout",
       "text": [
        "\n",
        "Acceptance rate is 0.12486."
       ]
      },
      {
       "output_type": "stream",
       "stream": "stdout",
       "text": [
        "\n",
        "Acceptance rate is 0.12248."
       ]
      },
      {
       "output_type": "stream",
       "stream": "stdout",
       "text": [
        "\n",
        "Acceptance rate is 0.12246."
       ]
      },
      {
       "output_type": "stream",
       "stream": "stdout",
       "text": [
        "\n",
        "Acceptance rate is 0.1187."
       ]
      },
      {
       "output_type": "stream",
       "stream": "stdout",
       "text": [
        "\n",
        "Acceptance rate is 0.12369."
       ]
      },
      {
       "output_type": "stream",
       "stream": "stdout",
       "text": [
        "\n",
        "Acceptance rate is 0.12162."
       ]
      },
      {
       "output_type": "stream",
       "stream": "stdout",
       "text": [
        "\n",
        "Acceptance rate is 0.12363."
       ]
      },
      {
       "output_type": "stream",
       "stream": "stdout",
       "text": [
        "\n",
        "Acceptance rate is 0.12323."
       ]
      },
      {
       "output_type": "stream",
       "stream": "stdout",
       "text": [
        "\n",
        "Acceptance rate is 0.12214."
       ]
      },
      {
       "output_type": "stream",
       "stream": "stdout",
       "text": [
        "\n",
        "Acceptance rate is 0.12389."
       ]
      },
      {
       "output_type": "stream",
       "stream": "stdout",
       "text": [
        "\n",
        "Acceptance rate is 0.12293."
       ]
      },
      {
       "output_type": "stream",
       "stream": "stdout",
       "text": [
        "\n",
        "Acceptance rate is 0.122."
       ]
      },
      {
       "output_type": "stream",
       "stream": "stdout",
       "text": [
        "\n",
        "Acceptance rate is 0.12439."
       ]
      },
      {
       "output_type": "stream",
       "stream": "stdout",
       "text": [
        "\n",
        "Acceptance rate is 0.1225."
       ]
      },
      {
       "output_type": "stream",
       "stream": "stdout",
       "text": [
        "\n",
        "Acceptance rate is 0.1233."
       ]
      },
      {
       "output_type": "stream",
       "stream": "stdout",
       "text": [
        "\n",
        "Acceptance rate is 0.12422."
       ]
      },
      {
       "output_type": "stream",
       "stream": "stdout",
       "text": [
        "\n",
        "Acceptance rate is 0.1244."
       ]
      },
      {
       "output_type": "stream",
       "stream": "stdout",
       "text": [
        "\n",
        "Acceptance rate is 0.12269."
       ]
      },
      {
       "output_type": "stream",
       "stream": "stdout",
       "text": [
        "\n",
        "Acceptance rate is 0.12413."
       ]
      },
      {
       "output_type": "stream",
       "stream": "stdout",
       "text": [
        "\n",
        "Acceptance rate is 0.12562."
       ]
      },
      {
       "output_type": "stream",
       "stream": "stdout",
       "text": [
        "\n",
        "Acceptance rate is 0.12247."
       ]
      },
      {
       "output_type": "stream",
       "stream": "stdout",
       "text": [
        "\n",
        "Acceptance rate is 0.12398."
       ]
      },
      {
       "output_type": "stream",
       "stream": "stdout",
       "text": [
        "\n",
        "Acceptance rate is 0.12548."
       ]
      },
      {
       "output_type": "stream",
       "stream": "stdout",
       "text": [
        "\n",
        "Acceptance rate is 0.12513."
       ]
      },
      {
       "output_type": "stream",
       "stream": "stdout",
       "text": [
        "\n",
        "Acceptance rate is 0.12158."
       ]
      },
      {
       "output_type": "stream",
       "stream": "stdout",
       "text": [
        "\n",
        "Acceptance rate is 0.12499."
       ]
      },
      {
       "output_type": "stream",
       "stream": "stdout",
       "text": [
        "\n",
        "Acceptance rate is 0.12196."
       ]
      },
      {
       "output_type": "stream",
       "stream": "stdout",
       "text": [
        "\n",
        "Acceptance rate is 0.12266."
       ]
      },
      {
       "output_type": "stream",
       "stream": "stdout",
       "text": [
        "\n",
        "Acceptance rate is 0.12348."
       ]
      },
      {
       "output_type": "stream",
       "stream": "stdout",
       "text": [
        "\n",
        "Acceptance rate is 0.12223."
       ]
      },
      {
       "output_type": "stream",
       "stream": "stdout",
       "text": [
        "\n",
        "Acceptance rate is 0.12135."
       ]
      },
      {
       "output_type": "stream",
       "stream": "stdout",
       "text": [
        "\n",
        "Acceptance rate is 0.12098."
       ]
      },
      {
       "output_type": "stream",
       "stream": "stdout",
       "text": [
        "\n",
        "Acceptance rate is 0.12291."
       ]
      },
      {
       "output_type": "stream",
       "stream": "stdout",
       "text": [
        "\n",
        "9.57110353763e-05\n"
       ]
      }
     ],
     "prompt_number": 38
    },
    {
     "cell_type": "markdown",
     "metadata": {},
     "source": [
      "From this problem we could see the importance of thinning in M-H algorithm. Even though we didn't increase the acceptance rate, we could reduce the autocorrelation of the chain and get more efficient result."
     ]
    },
    {
     "cell_type": "heading",
     "level": 3,
     "metadata": {},
     "source": [
      "Question 3: IMDB top five"
     ]
    },
    {
     "cell_type": "markdown",
     "metadata": {},
     "source": [
      "Suppose some individuals are asked to memorize the order of the top five movies on IMDB. When asked afterward, some will not report the correct order, and the mistakes they make can be captured by simple probabilistic models.\n",
      "  \n",
      "Let's say that the top five movies are:  *The Shawshank Redemption*,*The Godfather* ,  *The Godfather: Part II* , *The Dark Knight*  and  *Pulp Fiction* . This true ordering will be represented by a vector $\\omega =$ (1,2,3,4,5). \n",
      "\n",
      "When someone ranks the movie as $\\theta$ , the Hamming distance between that rank and the true rank is \n",
      "  \n",
      "$d(\\theta, \\omega) = \\sum_{i=1}^5 I_{\\theta_i\\neq \\omega_i}$. \n",
      "\n",
      "For example, if $\\theta$= (2,3,5,4,1), then $d(\\theta, \\omega)=4$, because only *The Dark Knight* is ranked correctly. \n",
      "\n",
      "Suppose the probability of a guess (expressed as $\\theta$) is \n",
      "\n",
      "$ p(\\theta | \\omega, \\lambda) \\propto  e^{-\\lambda d(\\theta, \\omega)} $.\n",
      "\n",
      "(a) Implement an M-H algorithm to produce sample guesses from 500 individuals with different $\\lambda=0.2, 0.5, 1.0$. What are the top five possible guesses?\n",
      "\n",
      "(b) Compute the probability that *The Shawshank Redemption* is ranked as the top 1 movie by the M-H algorithm. Compare the results for different $\\lambda$. What do you find?"
     ]
    },
    {
     "cell_type": "heading",
     "level": 3,
     "metadata": {},
     "source": [
      "Solutions:"
     ]
    },
    {
     "cell_type": "markdown",
     "metadata": {},
     "source": [
      "(a) We perfrom M-H algorithm for different $\\lambda$. We choose a burn in size as 10000. Also, the proposal distribution is the uniform distribution for all permutations. We could not use geweke test to show the chain has converged. As the problem suggested, we choose 500 samples after burnin. In fact, 500 samples is still too small to get the stable result. The total number of possible ranks is 5!=120. Simulation shows that a sample size of 50,000 could result in a more stable result."
     ]
    },
    {
     "cell_type": "code",
     "collapsed": false,
     "input": [
      "# Hemming distance\n",
      "def hem(theta):\n",
      "    diff = omega - theta\n",
      "    d = len(diff[diff!=0])\n",
      "    return d"
     ],
     "language": "python",
     "metadata": {},
     "outputs": [],
     "prompt_number": 77
    },
    {
     "cell_type": "code",
     "collapsed": false,
     "input": [
      "# probability of a guess\n",
      "def prob(theta, Lambda):\n",
      "    return np.exp(-Lambda*hem(theta))"
     ],
     "language": "python",
     "metadata": {},
     "outputs": [],
     "prompt_number": 78
    },
    {
     "cell_type": "code",
     "collapsed": false,
     "input": [
      "# M-H algorithm\n",
      "def mcmc(theta0, burnin,  N, Lambda):\n",
      "    r = np.random.random(N+burnin)\n",
      "    result = np.zeros((N, 5), dtype=int)\n",
      "    for i in xrange(N+burnin):\n",
      "        theta1 = np.random.permutation(theta0)\n",
      "        p = prob(theta1, Lambda)/prob(theta0, Lambda)\n",
      "        if r[i] < p:\n",
      "            theta0 = theta1\n",
      "        if i>=burnin:\n",
      "            result[i-burnin,:] = theta0\n",
      "    return result"
     ],
     "language": "python",
     "metadata": {},
     "outputs": [],
     "prompt_number": 79
    },
    {
     "cell_type": "code",
     "collapsed": false,
     "input": [
      "# Find the top 5 guesses.\n",
      "movieName = ['The Shawshank Redemption','The Godfather' , 'The Godfather: Part II' , 'The Dark Knight', 'Pulp Fiction']\n",
      "def top(m, result):\n",
      "    res = result[:,0]*10000+result[:,1]*1000+result[:,2]*100+result[:,3]*10+result[:,4]\n",
      "    res = list(res)\n",
      "    count = dict((i, res.count(i)) for i in res)\n",
      "    rank = sorted(count.items(), key=lambda x: x[1], reverse=True)\n",
      "    top = rank[0:m]\n",
      "    for i in xrange(m):\n",
      "        movie = top[i][0]\n",
      "        guess = map(str, str(top[i][0]))\n",
      "        count = top[i][1]\n",
      "        print \"Top top \"+str(i+1)+\" ranking is: \"+guess[0]+\", \"+guess[1]+\", \"+guess[2]+\", \"+guess[3]+\", \"+guess[4]+\". \"\n",
      "        print \"The movies are: \"+str(movieName[int(guess[0])-1])+\", \"+str(movieName[int(guess[1])-1])+\", \"+str(movieName[int(guess[2])-1])+\", \"+str(movieName[int(guess[3])-1])+\", \"+str(movieName[int(guess[4])-1])+\". \"\n",
      "        print \"The count of the guess is \"+str(count)+\".\""
     ],
     "language": "python",
     "metadata": {},
     "outputs": [],
     "prompt_number": 163
    },
    {
     "cell_type": "code",
     "collapsed": false,
     "input": [
      "# Perform the M-H algorithm with 10000 burn in and 5000 samples.\n",
      "omega = np.array([1,2,3,4,5], dtype=int)\n",
      "Lambda = 1\n",
      "burnin = 10000\n",
      "N = 500"
     ],
     "language": "python",
     "metadata": {},
     "outputs": [],
     "prompt_number": 164
    },
    {
     "cell_type": "markdown",
     "metadata": {},
     "source": [
      "For $\\lambda=0.2$, the top 5 guesses are:"
     ]
    },
    {
     "cell_type": "code",
     "collapsed": false,
     "input": [
      "result = mcmc(omega, burnin, N, 0.2)\n",
      "top(5, result)"
     ],
     "language": "python",
     "metadata": {},
     "outputs": [
      {
       "output_type": "stream",
       "stream": "stdout",
       "text": [
        "Top top 1 ranking is: 1, 2, 3, 5, 4. \n",
        "The movies are: The Shawshank Redemption, The Godfather, The Godfather: Part II, Pulp Fiction, The Dark Knight. \n",
        "The count of the guess is 38.\n",
        "Top top 2 ranking is: 3, 2, 1, 4, 5. \n",
        "The movies are: The Godfather: Part II, The Godfather, The Shawshank Redemption, The Dark Knight, Pulp Fiction. \n",
        "The count of the guess is 37.\n",
        "Top top 3 ranking is: 1, 4, 5, 3, 2. \n",
        "The movies are: The Shawshank Redemption, The Dark Knight, Pulp Fiction, The Godfather: Part II, The Godfather. \n",
        "The count of the guess is 34.\n",
        "Top top 4 ranking is: 1, 4, 3, 5, 2. \n",
        "The movies are: The Shawshank Redemption, The Dark Knight, The Godfather: Part II, Pulp Fiction, The Godfather. \n",
        "The count of the guess is 33.\n",
        "Top top 5 ranking is: 1, 2, 4, 3, 5. \n",
        "The movies are: The Shawshank Redemption, The Godfather, The Dark Knight, The Godfather: Part II, Pulp Fiction. \n",
        "The count of the guess is 31.\n"
       ]
      }
     ],
     "prompt_number": 165
    },
    {
     "cell_type": "markdown",
     "metadata": {},
     "source": [
      "For $\\lambda=0.5$, the top 5 guesses are:"
     ]
    },
    {
     "cell_type": "code",
     "collapsed": false,
     "input": [
      "result = mcmc(omega, burnin, N, 0.5)\n",
      "top(5, result)"
     ],
     "language": "python",
     "metadata": {},
     "outputs": [
      {
       "output_type": "stream",
       "stream": "stdout",
       "text": [
        "Top top 1 ranking is: 1, 2, 3, 4, 5. \n",
        "The movies are: The Shawshank Redemption, The Godfather, The Godfather: Part II, The Dark Knight, Pulp Fiction. \n",
        "The count of the guess is 98.\n",
        "Top top 2 ranking is: 1, 2, 3, 5, 4. \n",
        "The movies are: The Shawshank Redemption, The Godfather, The Godfather: Part II, Pulp Fiction, The Dark Knight. \n",
        "The count of the guess is 65.\n",
        "Top top 3 ranking is: 1, 3, 2, 4, 5. \n",
        "The movies are: The Shawshank Redemption, The Godfather: Part II, The Godfather, The Dark Knight, Pulp Fiction. \n",
        "The count of the guess is 61.\n",
        "Top top 4 ranking is: 1, 2, 5, 4, 3. \n",
        "The movies are: The Shawshank Redemption, The Godfather, Pulp Fiction, The Dark Knight, The Godfather: Part II. \n",
        "The count of the guess is 50.\n",
        "Top top 5 ranking is: 2, 1, 3, 4, 5. \n",
        "The movies are: The Godfather, The Shawshank Redemption, The Godfather: Part II, The Dark Knight, Pulp Fiction. \n",
        "The count of the guess is 50.\n"
       ]
      }
     ],
     "prompt_number": 166
    },
    {
     "cell_type": "markdown",
     "metadata": {},
     "source": [
      "For $\\lambda=1.0$, the top 5 guesses are:"
     ]
    },
    {
     "cell_type": "code",
     "collapsed": false,
     "input": [
      "result = mcmc(omega, burnin, N, 1.0)\n",
      "top(5, result)"
     ],
     "language": "python",
     "metadata": {},
     "outputs": [
      {
       "output_type": "stream",
       "stream": "stdout",
       "text": [
        "Top top 1 ranking is: 1, 2, 3, 4, 5. \n",
        "The movies are: The Shawshank Redemption, The Godfather, The Godfather: Part II, The Dark Knight, Pulp Fiction. \n",
        "The count of the guess is 324.\n",
        "Top top 2 ranking is: 1, 2, 4, 3, 5. \n",
        "The movies are: The Shawshank Redemption, The Godfather, The Dark Knight, The Godfather: Part II, Pulp Fiction. \n",
        "The count of the guess is 92.\n",
        "Top top 3 ranking is: 1, 4, 3, 2, 5. \n",
        "The movies are: The Shawshank Redemption, The Dark Knight, The Godfather: Part II, The Godfather, Pulp Fiction. \n",
        "The count of the guess is 91.\n",
        "Top top 4 ranking is: 1, 3, 2, 4, 5. \n",
        "The movies are: The Shawshank Redemption, The Godfather: Part II, The Godfather, The Dark Knight, Pulp Fiction. \n",
        "The count of the guess is 88.\n",
        "Top top 5 ranking is: 5, 2, 3, 4, 1. \n",
        "The movies are: Pulp Fiction, The Godfather, The Godfather: Part II, The Dark Knight, The Shawshank Redemption. \n",
        "The count of the guess is 79.\n"
       ]
      }
     ],
     "prompt_number": 167
    },
    {
     "cell_type": "markdown",
     "metadata": {},
     "source": [
      "We could find that as $\\lambda$ increases, more people would guess $(1,2,3,4,5)$ as the rank of the movie. In fact, rank $(1,2,3,5,4)$ and $(1,3,2,4,5)$ have the same probability since the Hamming of the two ranks are both 2. The top 5 guesses should be $(1,2,3,4,5)$ and any four permutation of it with a Hamming distance of 2."
     ]
    },
    {
     "cell_type": "markdown",
     "metadata": {},
     "source": [
      "(b) We compute the probability *The Shawshank Redemption* be rank as the top 1 movie by simple Monte Carlo method. That is we calculate the propotion of guesses that have *The Shawshank Redemption* as rank 1."
     ]
    },
    {
     "cell_type": "code",
     "collapsed": false,
     "input": [
      "# probability that The Shawshank Redemption be rank as the top 1 movie\n",
      "def SR(result):\n",
      "    num = result[result[:,0]==1,:].shape[0]\n",
      "    print \"The probability that The Shawshank Redemption be rank as top 1 movie is \"+str(num/float(N))"
     ],
     "language": "python",
     "metadata": {},
     "outputs": [],
     "prompt_number": 154
    },
    {
     "cell_type": "code",
     "collapsed": false,
     "input": [
      "result = mcmc(omega, burnin, N, 0.2)\n",
      "SR(result)"
     ],
     "language": "python",
     "metadata": {},
     "outputs": [
      {
       "output_type": "stream",
       "stream": "stdout",
       "text": [
        "The probability that The Shawshank Redemption be rank as top 1 movie is 0.2325\n"
       ]
      }
     ],
     "prompt_number": 155
    },
    {
     "cell_type": "code",
     "collapsed": false,
     "input": [
      "result = mcmc(omega, burnin, N, 0.5)\n",
      "SR(result)"
     ],
     "language": "python",
     "metadata": {},
     "outputs": [
      {
       "output_type": "stream",
       "stream": "stdout",
       "text": [
        "The probability that The Shawshank Redemption be rank as top 1 movie is 0.33\n"
       ]
      }
     ],
     "prompt_number": 156
    },
    {
     "cell_type": "code",
     "collapsed": false,
     "input": [
      "result = mcmc(omega, burnin, N, 1)\n",
      "SR(result)"
     ],
     "language": "python",
     "metadata": {},
     "outputs": [
      {
       "output_type": "stream",
       "stream": "stdout",
       "text": [
        "The probability that The Shawshank Redemption be rank as top 1 movie is 0.581\n"
       ]
      }
     ],
     "prompt_number": 157
    },
    {
     "cell_type": "markdown",
     "metadata": {},
     "source": [
      "We can see that as $\\lambda$ increases, the probability that *The Shawshank Redemption* be rank as the top 1 movie increases. This is consistent with (a)."
     ]
    },
    {
     "cell_type": "code",
     "collapsed": false,
     "input": [],
     "language": "python",
     "metadata": {},
     "outputs": []
    }
   ],
   "metadata": {}
  }
 ]
}