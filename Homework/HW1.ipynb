{
 "metadata": {
  "name": "",
  "signature": "sha256:2cbf5317d3c0a998da9bbbccece090657f6c2da12fd3609ed9b382d8dd905459"
 },
 "nbformat": 3,
 "nbformat_minor": 0,
 "worksheets": [
  {
   "cells": [
    {
     "cell_type": "markdown",
     "metadata": {},
     "source": [
      "# **AM 207**: Homework 1"
     ]
    },
    {
     "cell_type": "markdown",
     "metadata": {},
     "source": [
      "_ _ _ _ _\n",
      "\n",
      "Verena Kaynig-Fittkau and Pavlos Protopapas  <br>\n",
      "Handed out: Thursday, February 5th, 2015<br>\n",
      "Due: 11.59 P.M. Wednesday February 11th, 2015\n",
      "\n",
      "### Instructions:\n",
      "\n",
      "+ Upload your answers in an ipython notebook to the dropbox on iSites, you can find the link on [our homepage](http://am207.github.io/2015/).\n",
      "\n",
      "+ We will provide you imports for your ipython notebook. For the first part of this course, please do not import additional libraries.\n",
      "\n",
      "+ Your individual submissions should use the following filenames: AM207_YOURNAME_HW1.ipynb\n",
      "\n",
      "+ Your code should be in code cells as part of your ipython notebook. Do not use a different language (or format). \n",
      "\n",
      "+ Please submit your notebook in an executed status, so that we can see all the results you computed. However, we will still run your code and all cells should reproduce the output when executed. \n",
      "\n",
      "+ If you have multiple files (e.g. you've added code files or images) create a tarball for all files in a single file and name it: AM207_YOURNAME_HW1.tar.gz or AM207_YOURNAME_HW1.zip\n",
      "\n",
      "\n",
      "### Lab time:\n",
      "\n",
      "+ This homework will be discussed in the lab on Friday 02/06, 9:30-11 in Cruft309.\n",
      "+ You can also go to the office hours. Times are announced on Piazza.\n",
      "\n",
      "### Survey:\n",
      "\n",
      "+ When you finished, please take one minute and answer [this survey](https://docs.google.com/forms/d/15XrAr2oY7exjXP4OSoLwuaKRFWWSy6WDa0w1AdTJu0Q/viewform?usp=send_form), so we know how long you spend on your homework.\n",
      "\n",
      "### Have Fun!\n",
      "_ _ _ _ _"
     ]
    },
    {
     "cell_type": "markdown",
     "metadata": {},
     "source": [
      "# Problem 1: \n",
      "\n",
      "Valentine's day is coming and Maria decided to design a nice gift for her loved one. As a nerdy statistics PhD, she first plotted her design in $\\mathcal{R}$, which is shown in Figure 1 below. A ruby ball with radius $r_1=1cm$ and density $\\rho_1=4g/ cm^3$ lies in the center, as a symbol of their love. The ball is sourrounded by a generalized cylinder that is made of crystal with density $\\rho_2=6g/cm^3$. The generalized cylinder has the form of an hourglass, symbolizing that their love is going to endure time until all eternity. \n",
      "\n",
      "Denote the center of the ruby ball to be $(x,y,z)=(0, 0, 0)$, the generalized cylinder is centered around the z-axis, and its radius is described by: $r(Z) = \\sqrt{1+|Z|}$ at level set $z=Z$, $-1\\leq Z\\leq 1$. Maria's boyfriend, Tom, a physics PhD, is curious about the moment of inertia of this precious token. Please help Maria and Tom to calculate the moment of inertia of the gift corresponding to the rotation about the z-axis.\n",
      "\n",
      "Carry out the calculation using Monte Carlo sampling of the moment of inertia integral.\n",
      "$$I=\\int dx\\int dy\\int dz\\rho(x,y,z) r^2(x,y,z),$$\n",
      "where $r(x,y,z)$ is the perpendicular distance of the point $(x,y,z)$ from the axis of rotation (z-axis).  Do the simulation $N_s=1000$ times and for each simulation choose $N_{mc}$ such that the accuracy is $0.1\\%$. Show how you estimated the accuracy and what is the value of $N_{mc}$.\n",
      "\n",
      "<img src = \"./valentine_gift.png\">"
     ]
    },
    {
     "cell_type": "markdown",
     "metadata": {},
     "source": [
      "# Problem 2: \n",
      "Maria's friend, Paparus, another statistics PhD, is thinking of getting a lovely puppy for his girlfriend. A desirable puppy should be less than 6 years old, taller than 20 cm but shorter than 35 cm. It also should weigh less than 40 lbs. Assume that the probability distribution for age (a) is an exponential distribution, and that the age (a) is independent of the height and weight.\n",
      "\n",
      "$$a\\sim \\mbox{Expo(}\\lambda\\mbox{)} \\text{, with } \\lambda = 0.3$$ \n",
      "\n",
      "\n",
      "\n",
      "The joint distribution of height (h) and weight (w) is a bivariate normal distribution:\n",
      "\n",
      "$$(h,w)\\sim N(\\mu, \\Sigma) \\text{, with }  \\mu=(\\mu_w,\\mu_h) = (30, 25)   \\text{, and } \\Sigma = \\left(\\begin{array}{cc} 50 & 10\\\\  10 & 100 \\end{array}\\right).$$\n",
      "\n",
      "\n",
      "\n",
      "Calculate the probability that Paparus finds a desirable puppy. "
     ]
    },
    {
     "cell_type": "markdown",
     "metadata": {},
     "source": [
      "# Problem 3: \n",
      "Unfortunately not everybody gets to be happy on Valentines day. Thousands of random samples get rejected every day in Monte Carlo simulations. Let us try and at least reduce the misery for all these poor random samples.\n",
      "\n",
      "Generate a random sample from the two dimensional distribution \n",
      "\n",
      "$$P(x, y) \\propto \\exp(-x^2 - y^2 - x^2 y^2), \\text{ s.t. } -2\\leq x\\leq 2, -2\\leq y\\leq 2$$\n",
      "\n",
      "using the rejection method. Report the number of samples you accept ($N_{+}$) and reject ($N_{-}$), and their ratio  $N_{+}/N_{-}$. \n",
      "\n",
      "\n",
      "\n",
      " Think of a way of improving the ratio of $N_{+}/N_{-}$ and implement it. By how much did you improve the ratio?"
     ]
    },
    {
     "cell_type": "code",
     "collapsed": false,
     "input": [],
     "language": "python",
     "metadata": {},
     "outputs": []
    }
   ],
   "metadata": {}
  }
 ]
}