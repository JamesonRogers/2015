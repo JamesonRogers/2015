{
 "metadata": {
  "name": "",
  "signature": "sha256:7ea4b003884fa6d9fb876ff93dc11209d4decf3c688e13186324b694733d8785"
 },
 "nbformat": 3,
 "nbformat_minor": 0,
 "worksheets": [
  {
   "cells": [
    {
     "cell_type": "heading",
     "level": 1,
     "metadata": {},
     "source": [
      "**AM 207**: Homework 2"
     ]
    },
    {
     "cell_type": "markdown",
     "metadata": {},
     "source": [
      "_ _ _ _ _\n",
      "\n",
      "Verena Kaynig-Fittkau and Pavlos Protopapas  <br>\n",
      "Handed out: Thursday, February 13th, 2015<br>\n",
      "Due: 11.59 P.M. Wednesday February 18th, 2015\n",
      "\n",
      "**Instructions**:\n",
      "\n",
      "+ Upload your answers in an ipython notebook to the dropbox on iSites, you can find the link on our homepage (http://am207.org/).\n",
      "\n",
      "+ We will provide you imports for your ipython notebook. For the first part of this course, please do not import additional libraries.\n",
      "\n",
      "+ Your individual submissions should use the following filenames: AM207_YOURNAME_HW0.ipynb\n",
      "\n",
      "+ Your code should be in code cells as part of your ipython notebook. Do not use a different language (or format). \n",
      "\n",
      "+ Please submit your notebook in an executed status, so that we can see all the results you computed. However, we will still run your code and all cells should reproduce the output when executed. \n",
      "\n",
      "+ If you have multiple files (e.g. you've added code files or images) create a tarball for all files in a single file and name it: AM207_YOURNAME_HW0.tar.gz or AM207_YOURNAME_HW0.zip\n",
      "\n",
      "+ Please remember that your solution should be a **report**! We would like some explanations of your ideas, and ways to approach the solution. Also please comment your code. \n",
      "\n",
      "### Have Fun!\n",
      "_ _ _ _ _\n",
      "_ _ _ _ _"
     ]
    },
    {
     "cell_type": "code",
     "collapsed": false,
     "input": [
      "import time\n",
      "import math\n",
      "import numpy as np\n",
      "import scipy\n",
      "\n",
      "%matplotlib inline\n",
      "import matplotlib.pyplot as plt\n",
      "\n",
      "# you don't have to use seaborn if you prefer plain matplotlib\n",
      "import seaborn as sns\n",
      "sns.set_style('white')\n",
      "sns.set_context('paper')"
     ],
     "language": "python",
     "metadata": {},
     "outputs": [],
     "prompt_number": 2
    },
    {
     "cell_type": "heading",
     "level": 3,
     "metadata": {},
     "source": [
      "Question 1:  My Lover's Got Humor (*Hozier*)"
     ]
    },
    {
     "cell_type": "markdown",
     "metadata": {},
     "source": [
      "It is rumored that buried under the piled up snows brought to us by the Blizzardpocolypse of 2015 theres is a modest road known as the Boulevard of Broken Dreams (*Green Day*).  Along this road you'll find scattered the shattered hearts of humorists who are \"the giggle at a funeral\" (*Hozier*) and also of one Richard Sherman (*Seattle Seahawks*). Let's assume the broken hearts are distributed according to the function $\\heartsuit(\\theta) \\sim \\frac{ {\\rm sin^{34}}\\theta}{\\theta^2}$ from $0< \\theta< \\infty$ and otherwise.  As a current humorist, it is your job to try to integrate $\\heartsuit(\\theta)$.\n",
      "\n",
      "(a) Estimate your integral of $\\heartsuit (\\theta)$ using the standard Monte Carlo method with $N=100000$.  That is calculate the integral, \n",
      "\n",
      "$I=\\int_{0}^{\\infty} \\frac{ {\\rm sin^{34}}\\theta d\\theta}{\\theta^2}$\n",
      "\n",
      "Repeat the simulation 100 times and report the mean value of $I$ and its variance. (Hint: find a way to deal with that $\\infty$ sign there)<br>\n",
      "\n",
      "(b) Use importance sampling to evaluate the same integral.  Use the pdf of $\\mathcal{N}(20,0.5)$ for your importance sampling distribution.  Why is this not a good choice? Try to choose a good importance sampling distribution and evaluate again.  Do you see a reduction in variance?  For both importance sampling distributions, run 100 simulations of 100,000 points. \n",
      "\n",
      "(c) Use a control variate to reduce the variance of the estimation of $I$ using $N=100000$ and 100 simulations as in part (a)\n",
      "\n",
      "(d) Is it a good idea to use the antithesis method to reduce variance here?  Why or why not?  Could you use antithesis in combination with another method?  (We're only looking for your understanding of the methods in this problem.  No code required for this part).\n",
      "\n",
      "(e) ** CHALLENGE/EXTRA CREDIT ** Use the best variance reduction method/combination of methods you can come up with.  Please restrict yourself to methods that we've covered in class and lab.  The top 10 solutions will get an additional bonus. \n"
     ]
    },
    {
     "cell_type": "heading",
     "level": 4,
     "metadata": {},
     "source": [
      "Solution:"
     ]
    },
    {
     "cell_type": "markdown",
     "metadata": {},
     "source": [
      "**(a) Estimate your integral of $\\heartsuit (\\theta)$ using the standard Monte Carlo method with $N=100000$.  That is calculate the integral, **\n",
      "\n",
      "**$I=\\int_{0}^{\\infty} \\frac{ {\\rm sin^{34}}\\theta d\\theta}{\\theta^2}$**\n",
      "\n",
      "**Repeat the simulation 100 times and report the mean value of $I$ and its variance. (Hint: find a way to deal with that $\\infty$ sign there)**<br>"
     ]
    },
    {
     "cell_type": "markdown",
     "metadata": {},
     "source": [
      "The domain of integration is $[0,\\infty]$.  Monte Carlo integration samples from the uniform distribution which requires a bound domain.  How do we choose our bound?  Fortunately, we see that the $\\sin^{34}\\theta$ tails off as $\\theta \\rightarrow \\infty$.  In fact let's define \n",
      "\n",
      "$$\n",
      "\\newcommand{integI}[2]{\\int_#1^#2 \\frac{ {\\rm sin^{34}}\\theta d\\theta}{\\theta^2}}\n",
      "I(b) \\equiv \\integI{0}{b}\n",
      "$$\n",
      "\n",
      "Then $I \\equiv I(\\infty)$ is our integral.  The error from replacing our integral $I$ with $I(b)$  i.e. an integral over the domain [0,b] is \n",
      "\n",
      "$$ \\|\\integI{0}{\\infty} - \\integI{0}{b}\\| \\lt \\integI{b}{\\infty} \\lt \\int_b^{\\infty}\\frac{d\\theta}{\\theta^2} = \\frac{1}{b}$$\n",
      "\n",
      "So we know choosing an interval [0,b] will give approximate $I$ within 1\\b. So let's choose b to be 200.  Our domain for all our MC estimations in this problem will be [0,200]\n",
      "\n",
      "First of all let's plot our function $\\heartsuit(\\theta)$ over our domain."
     ]
    },
    {
     "cell_type": "code",
     "collapsed": false,
     "input": [
      "# Define the heart function that we'll be estimating throughout problem 1\n",
      "heart = lambda x: np.sin(x)**34/x**2\n",
      "\n",
      "# Define our domain of integration\n",
      "theta_min = 0.0\n",
      "theta_max = 200.0\n",
      "\n",
      "# Our famous simulation parameters\n",
      "Nmc = 100000\n",
      "Ns = 100\n",
      "\n",
      "# plot heart(\\theta)\n",
      "x = np.linspace(theta_min,theta_max,10000)\n",
      "y = heart(x)\n",
      "\n",
      "plt.plot(x,y,label=r'$heartsuit(\\theta)')\n",
      "plt.xlim([0,50])\n",
      "plt.title(r'Plot of Function $\\heartsuit(\\theta)$')\n",
      "plt.xlabel(r'$x \\theta$')\n",
      "plt.ylabel(r'$y \\heartsuit(\\theta)$')\n",
      "plt.show()"
     ],
     "language": "python",
     "metadata": {},
     "outputs": [
      {
       "metadata": {},
       "output_type": "display_data",
       "png": "[encoded data removed]",
       "text": [
        "<matplotlib.figure.Figure at 0x10c103c90>"
       ]
      }
     ],
     "prompt_number": 3
    },
    {
     "cell_type": "markdown",
     "metadata": {},
     "source": [
      "We'll approximate this integral using the standard Monte Carlo method and using $N_mc = 100000$ samples. We repeat the approximation $N_{Sim} = 100$ times to determine the variance of the approximation.\n",
      "\n",
      "It also turns out that we have a closed form solution for the exact integral of this function.  Integrals of the form $\\int_{0}^{\\infty} \\frac{ {\\rm sin}x^{2n}}{x^2} dx$ have the solution $\\frac{\\pi}{2^{2n-1}} \\binom{2n-2}{n-1}$, so we can take advantage of the closed form solution to check our result.\n",
      "\n",
      "$I=\\int_{0}^{\\infty} \\frac{ {\\rm sin}x^{34}}{x^2} dx = \\frac{\\pi}{2^{33}} \\binom{32}{16}$"
     ]
    },
    {
     "cell_type": "code",
     "collapsed": false,
     "input": [
      "\"\"\"\n",
      "mc_simulation\n",
      "\n",
      "    Runs a monte carlo simulation of an integrand according to given parameters\n",
      "    \n",
      "    Args:\n",
      "        integrand:  a function or lambda function whose integral is being estimated\n",
      "        run_size:  the number of samples in an individual run (e.g. Nmc)\n",
      "        sim_size:  the number of runs in the simuation (e.g. Ns)\n",
      "        volume:  the volume of the domain (interval in this case)\n",
      "        \n",
      "    Returns:\n",
      "        np.ndarray:  An array of the monte carlo integral estimates for each run\n",
      "\n",
      "\"\"\"\n",
      "def mc_simulation(integrand=heart,run_size = Nmc, sims=Ns,volume=1):\n",
      "    X = np.random.uniform(low = theta_min, high = theta_max, size = (sims,run_size))\n",
      "    return volume*np.mean(integrand(X),axis=1)\n",
      "\n",
      "\n",
      "basic_results = mc_simulation(volume = theta_max - theta_min)\n",
      "\n",
      "\n",
      "# let's calculate the exact value\n",
      "exact_val = scipy.special.binom(32,16) * np.pi/2**33\n",
      "\n",
      "print \"Basic Monte Carlo:  Mean: {}, Variance: {}\".format(np.mean(basic_results),np.var(basic_results))\n",
      "\n",
      "\n",
      "plt.hist(basic_results, histtype='step', label=u'Basic MC')\n",
      "plt.plot([exact_val, exact_val], [0 ,50], 'y.-', label=u'Exact Value') \n",
      "plt.title(r'Monte Carlo Estimation of $\\frac{ {\\rm sin^{34}}\\theta}{\\theta^2}$')\n",
      "plt.xlabel(r'$\\theta$')\n",
      "plt.legend()\n"
     ],
     "language": "python",
     "metadata": {},
     "outputs": [
      {
       "output_type": "stream",
       "stream": "stdout",
       "text": [
        "Basic Monte Carlo:  Mean: 0.219007789913, Variance: 0.000108709187025\n"
       ]
      },
      {
       "metadata": {},
       "output_type": "pyout",
       "prompt_number": 4,
       "text": [
        "<matplotlib.legend.Legend at 0x10c138990>"
       ]
      },
      {
       "metadata": {},
       "output_type": "display_data",
       "png": "[encoded data removed]",
       "text": [
        "<matplotlib.figure.Figure at 0x10886b090>"
       ]
      }
     ],
     "prompt_number": 4
    },
    {
     "cell_type": "markdown",
     "metadata": {},
     "source": [
      "**(b) Use importance sampling to evaluate the same integral.  Use the pdf of $\\mathcal{N}(20,0.5)$ for your importance sampling distribution.  Why is this not a good choice? Try to choose a good importance sampling distribution and evaluate again.  Do you see a reduction in variance?  For both importance sampling distributions, run 100 simulations of 100,000 points. **"
     ]
    },
    {
     "cell_type": "markdown",
     "metadata": {},
     "source": [
      "We'll first begin with a plot of our function and the proposed importance sampling distribution $\\mathcal{N}(20,0.5)$.  Since it's  (for comparison purposes) we want to keep the same boundaries throughout this problem, I'm going to replace the normal a truncated normal which is defined on an interval (or a semi-interval).  In practice, the proposed sample distribution $\\mathcal{N}(20,0.5)$ almost never samples outside of our domain [0,b], so we can safely just use the normal distribution here.  If we wanted to be very precise, we'd use a normal distribution and throw away all samples outside our domain [0,b]. We're going to do the same thing more efficiently by using the truncated normal available in scipy.stats.truncorm."
     ]
    },
    {
     "cell_type": "code",
     "collapsed": false,
     "input": [
      "# some parameters for the normal (truncnorm)\n",
      "mu = 20\n",
      "sigma = np.sqrt(0.5)\n",
      "lower= (theta_min - mu)/sigma\n",
      "upper= (theta_max - mu)/sigma\n",
      "\n",
      "# define our truncated normal importance sampling distribution pdf and sampling\n",
      "ip_truncnorm = lambda x: scipy.stats.truncnorm.pdf(x,lower, upper, loc=mu, scale=sigma)\n",
      "ip_truncnorm_sample = lambda x: scipy.stats.truncnorm.rvs(lower, upper, loc=mu, scale=sigma, size=x)\n",
      "\n",
      "# plot heart(\\theta) and truncnorm(\\theta)\n",
      "x = np.linspace(theta_min,theta_max,10000)\n",
      "y = heart(x)\n",
      "z = ip_truncnorm(x)\n",
      "\n",
      "plt.plot(x,y,label=r'$\\heartsuit(\\theta)$')\n",
      "plt.plot(x,z,label=r'$\\mathcal{N}(20,0.5)$' )\n",
      "\n",
      "plt.xlim([0,50])\n",
      "plt.title(r'Plotting $\\mathcal{N}(20,0.5)$ and $\\heartsuit(\\theta)$')\n",
      "plt.xlabel(r'$\\theta$')\n",
      "plt.legend(prop={'size':11})\n",
      "plt.show()"
     ],
     "language": "python",
     "metadata": {},
     "outputs": [
      {
       "metadata": {},
       "output_type": "display_data",
       "png": "[encoded data removed]",
       "text": [
        "<matplotlib.figure.Figure at 0x10c1039d0>"
       ]
      }
     ],
     "prompt_number": 5
    },
    {
     "cell_type": "markdown",
     "metadata": {},
     "source": [
      "Just from casual inspection, our proposal distribution $\\mathcal{N}(20,0.5)$ seems a very suboptimal choise for an importance sampling distribution.  It's very narrowly focussed around $\\theta = 20$ a very low density region for $\\heartsuit(\\theta)$.  Since the vast majority of density for $\\heartsuit(\\theta)$ lies in places where $\\mathcal{N}(20,0.5)$ is essentially 0, it's highly improbable that this choice of an importance sampling distribution will improve on Basic Monte Carlo."
     ]
    },
    {
     "cell_type": "code",
     "collapsed": false,
     "input": [
      "\n",
      "\"\"\"\n",
      "imp_simulation\n",
      "\n",
      "    Runs an importance sampling simulation of an integrand according to given parameters\n",
      "    \n",
      "    Args:\n",
      "        integrand:  a function or lambda function whose integral is being estimated\n",
      "        ipdist: distribution to sample from\n",
      "        ippdf: pdf of sampling distribution\n",
      "        run_size:  the number of samples in an individual run (e.g. Nmc)\n",
      "        sim_size:  the number of runs in the simuation (e.g. Ns)\n",
      "        \n",
      "    Returns:\n",
      "        np.ndarray:  An array of the importance sampling integral estimates for each run\n",
      "\n",
      "\"\"\"\n",
      "def imp_simulation(integrand=heart, ipdist= ip_truncnorm_sample, ippdf=ip_truncnorm,run_size = Nmc, sims=Ns):\n",
      "    size_tuple = (sims, run_size)\n",
      "    X = ipdist(size_tuple)\n",
      "    return np.mean(integrand(X)/ippdf(X), axis=1)\n",
      "\n",
      "# Importance sampling on N(20,.5) proposal distribution\n",
      "bad_imp_sampling_results = imp_simulation()\n",
      "\n",
      "\n",
      "# Plot Results\n",
      "plt.hist(basic_results, histtype='step', label=u'Monte Carlo')\n",
      "plt.hist(bad_imp_sampling_results, histtype='step', color='red', label=r'Importance Sampling: $\\mathcal{N}(20,0.5)$' )\n",
      "plt.plot([exact_val, exact_val], [0 ,50], 'g.-', label=u'Exact Value')\n",
      "plt.title(r'Estimation results for integrating $\\frac{ {\\rm sin^{34}}\\theta}{\\theta^2}$')\n",
      "plt.xlabel(r'$\\theta$')\n",
      "plt.legend(prop={'size':11})"
     ],
     "language": "python",
     "metadata": {},
     "outputs": [
      {
       "metadata": {},
       "output_type": "pyout",
       "prompt_number": 6,
       "text": [
        "<matplotlib.legend.Legend at 0x10781e110>"
       ]
      },
      {
       "metadata": {},
       "output_type": "display_data",
       "png": "[encoded data removed]",
       "text": [
        "<matplotlib.figure.Figure at 0x10c1037d0>"
       ]
      }
     ],
     "prompt_number": 6
    },
    {
     "cell_type": "markdown",
     "metadata": {},
     "source": [
      "Sure enough we see that while $\\mathcal{N}(20,0.5)$ did a very poor job of estimating $I$.  As predicted, the limited ability for the proposed sampling distribution to cover the region of support for $\\heartsuit(\\theta)$ and in particular the high density region resulted in a bad estimate for the integral.  While variance actually narrowed, that's an artifact of low weights because most of the samples are in regions where $\\heartsuit$ is near 0.  The estimate for $I$ is most likely an estimate for area covered by the small bump in $\\heartsuit(\\theta)$ found in the high density region for our proposed sapled distribution. <br>\n",
      "\n",
      "There are many candidates for improved importance sampling distributions.  Any distribution over the appropriate domain [0,200] that tails off will likely do much better as an importance sampling distribution than $\\mathcal{N}(20,0.5)$.  An exponential, an appropriately constructed normal or gamma, or a Pareto would all be good candidates.  Let's plot some possible candidates."
     ]
    },
    {
     "cell_type": "code",
     "collapsed": false,
     "input": [
      "# Define importance sampling candidates\n",
      "\n",
      "# Gamma\n",
      "ip_gamma_pdf = lambda x: scipy.stats.gamma.pdf(x, 2, scale=2)\n",
      "ip_gamma_rvs = lambda x: scipy.stats.gamma.rvs(2, scale=2, size=x)\n",
      "\n",
      "# Exponential\n",
      "ip_expon_pdf = lambda x: scipy.stats.truncexpon.pdf(x,theta_max,scale=3.0)\n",
      "ip_expon_rvs = lambda x: scipy.stats.truncexpon.rvs(theta_max, scale=3.0, size = x)\n",
      "\n",
      "# Truncated Normal\n",
      "ip_trunc_pdf = lambda x: scipy.stats.truncnorm.pdf(x, (theta_min-1.5)/4.0,(theta_max-1.5)/4.0, loc=1.5, scale=4.0)\n",
      "ip_trunc_rvs = lambda x: scipy.stats.truncnorm.rvs((theta_min-1.5)/4.0,(theta_max-1.5)/4.0, size=x, loc=1.5, scale=4.0)\n",
      "\n",
      "# Shifted Pareto\n",
      "ip_pareto_pdf = lambda x: scipy.stats.pareto.pdf(x, 1.0, loc=-1.0)\n",
      "ip_pareto_rvs = lambda x: scipy.stats.pareto.rvs(1.0, loc=-1.0, size=x)\n",
      "\n",
      "# plot heart(\\theta) and our importance sampling candidates\n",
      "x = np.linspace(theta_min,theta_max,10000)\n",
      "y = heart(x)\n",
      "z1 = ip_gamma_pdf(x)\n",
      "z2 = ip_expon_pdf(x)\n",
      "z3 = ip_trunc_pdf(x)\n",
      "z4 = ip_pareto_pdf(x)\n",
      "\n",
      "plt.plot(x,y,label=r'$\\heartsuit(\\theta)$')\n",
      "plt.plot(x,z1,label=r'$Gamma(2,2)$' )\n",
      "plt.plot(x,z2,label=r'$Exponentinal$')\n",
      "plt.plot(x,z3,label=r'$TruncatedNormal$')\n",
      "plt.plot(x,z4,label=r'$ShiftedPareto$')\n",
      "\n",
      "plt.xlim([0,50])\n",
      "plt.title(r'Plotting Importance Sampling Candidates$')\n",
      "plt.xlabel(r'$\\theta$')\n",
      "plt.legend(prop={'size':11})\n",
      "plt.show()"
     ],
     "language": "python",
     "metadata": {},
     "outputs": [
      {
       "metadata": {},
       "output_type": "display_data",
       "png": "[encoded data removed]",
       "text": [
        "<matplotlib.figure.Figure at 0x107884e90>"
       ]
      }
     ],
     "prompt_number": 8
    },
    {
     "cell_type": "markdown",
     "metadata": {},
     "source": [
      "All of these look like viable candidates.  All of them seem to have probability density in all the same regions as $\\heartsuit$ but the truncated exponential and the gamma also do very well on the visual inspection test in terms of matching the tails of $\\heartsuit$.  For reasons of matching boundaries, we'll choose the truncated normal and truncated exponential.  We'll show the gamma and pareto for comparison (without cutting of samples above the upper bound. With the boundaries chosen [0,200], we don't have to worry in practice about only sampling in the appropriate domain for the gamma and pareto."
     ]
    },
    {
     "cell_type": "code",
     "collapsed": false,
     "input": [
      "# Importance sampling using Truncated Normal proposal distribution\n",
      "trunc_imp_sampling_results = imp_simulation(ipdist=ip_trunc_rvs, ippdf=ip_trunc_pdf)\n",
      "\n",
      "# Importance sampling using Exponential proposal distribution\n",
      "expon_imp_sampling_results = imp_simulation(ipdist=ip_expon_rvs, ippdf=ip_expon_pdf)\n",
      "\n",
      "# Importance sampling using Gamma proposal distribution\n",
      "gamma_imp_sampling_results = imp_simulation(ipdist=ip_gamma_rvs, ippdf=ip_gamma_pdf)\n",
      "\n",
      "# Importance sampling using Shifted Pareto proposal distribution\n",
      "pareto_imp_sampling_results = imp_simulation(ipdist=ip_pareto_rvs, ippdf=ip_pareto_pdf)\n",
      "\n",
      "print \"Truncated Normal:  Mean: {}, Variance: {}\".format(np.mean(trunc_imp_sampling_results),np.var(trunc_imp_sampling_results))\n",
      "print \"Truncated Exponential:  Mean: {}, Variance: {}\".format(np.mean(expon_imp_sampling_results),np.var(expon_imp_sampling_results))\n",
      "print \"Pareto:  Mean: {}, Variance: {}\".format(np.mean(pareto_imp_sampling_results),np.var(pareto_imp_sampling_results))\n",
      "print \"Gamma:  Mean: {}, Variance: {}\".format(np.mean(gamma_imp_sampling_results),np.var(gamma_imp_sampling_results))\n"
     ],
     "language": "python",
     "metadata": {},
     "outputs": [
      {
       "output_type": "stream",
       "stream": "stdout",
       "text": [
        "Truncated Normal:  Mean: 0.213792888937, Variance: 1.46977358977e-05\n",
        "Truncated Exponential:  Mean: 0.216077867326, Variance: 6.9440801408e-06\n",
        "Pareto:  Mean: 0.219454894991, Variance: 3.39380632372e-06\n",
        "Gamma:  Mean: 0.216374375978, Variance: 1.16038325499e-05\n"
       ]
      }
     ],
     "prompt_number": 9
    },
    {
     "cell_type": "code",
     "collapsed": false,
     "input": [
      "# Plot Results\n",
      "f, ((ax1, ax2), (ax3, ax4)) = plt.subplots(2, 2)\n",
      "ax1.hist(basic_results, histtype='step', lw=.8, label=u'Monte Carlo')\n",
      "ax1.hist(expon_imp_sampling_results, histtype='step', lw=.8, label=r'Exponential')\n",
      "ax1.plot([exact_val, exact_val], [0 ,50], 'g.-', label=u'Exact Value')\n",
      "ax1.set_xlabel(r'$\\theta$')\n",
      "ax1.legend(prop={'size':8})\n",
      "\n",
      "ax2.hist(basic_results, histtype='step', lw=.8, label=u'Monte Carlo')\n",
      "ax2.hist(trunc_imp_sampling_results, histtype='step', lw=.8, label=r'TruncatedNormal' )\n",
      "ax2.plot([exact_val, exact_val], [0 ,50], 'g.-', label=u'Exact Value')\n",
      "ax2.set_xlabel(r'$\\theta$')\n",
      "ax2.legend(prop={'size':8})\n",
      "\n",
      "ax3.hist(basic_results, histtype='step', lw=.8, label=u'Monte Carlo')\n",
      "ax3.hist(gamma_imp_sampling_results, histtype='step', lw=.8, label=r'Gamma')\n",
      "ax3.plot([exact_val, exact_val], [0 ,50], 'g.-', label=u'Exact Value')\n",
      "ax3.set_xlabel(r'$\\theta$')\n",
      "ax3.legend(prop={'size':8})\n",
      "\n",
      "ax4.hist(basic_results, histtype='step', lw=.8, label=u'Monte Carlo')\n",
      "ax4.hist(pareto_imp_sampling_results, histtype='step', lw=.8, label=r'Gamma')\n",
      "ax4.plot([exact_val, exact_val], [0 ,50], 'g.-', label=u'Exact Value')\n",
      "ax4.set_xlabel(r'$\\theta$')\n",
      "ax4.legend(prop={'size':8})\n"
     ],
     "language": "python",
     "metadata": {},
     "outputs": [
      {
       "metadata": {},
       "output_type": "pyout",
       "prompt_number": 10,
       "text": [
        "<matplotlib.legend.Legend at 0x1171ebb50>"
       ]
      },
      {
       "metadata": {},
       "output_type": "display_data",
       "png": "[encoded data removed]",
       "text": [
        "<matplotlib.figure.Figure at 0x107884d10>"
       ]
      }
     ],
     "prompt_number": 10
    },
    {
     "cell_type": "markdown",
     "metadata": {},
     "source": [
      "Very interesting results.  So we're seeing reasonably good variance reduction from the paraeto importance sampling function and to a lesser extent the truncated normal.  We also see something very subtle that would be difficult to catch from the visual inspection test.  Three of the candidate importance sampling distributions -- the truncated normal, the exponential, and the gamma -- underestimate the integral that we're trying to estimate.  The Pareto is the only candidate that doesn't underestimate the integral (of course Basic Monte Carlo doesn't either).  Because those three have tails that fall off exponentially, they are *having difficulty sampling in regions where our integrand still has density*.  The Pareto has a tail that matches very well with our integrand and it's no surprise then that the Pareto is the only distribution that's providing an unbiased estimate for the integral as well as the appropriate variance reduction.  So we switch our answer to the Pareto :-)"
     ]
    },
    {
     "cell_type": "markdown",
     "metadata": {},
     "source": [
      "**(c) Use a control variate to reduce the variance of the estimation of $I$ using $N=100000$ and 100 simulations as in part (a)**\n",
      "\n",
      "Choosing a candidate functions for the control variate method differ from doing the same in importance sampling because we don't need to sample from our candidate function/distribution.  We just need to be able to evaluate it and also to know its expectation over our domain. Let's take a look at some candidate functions recycled from importance sampling -- { A truncated exponential, A truncated normal, $\\frac{1}{(\\theta+1)^2}$ }."
     ]
    },
    {
     "cell_type": "code",
     "collapsed": false,
     "input": [
      "cv_pareto = lambda x: 1.0/(x+1)**2\n",
      "cv_pareto_vol = 1.0 - 1.0/201\n",
      "\n",
      "cv_candidate = lambda x: np.exp(-x)*np.sin(x)**2\n",
      "cv_candidate_int = lambda x: (np.cos(2*x)-2*np.sin(2*x) - 5)*np.exp(-x)/10.0\n",
      "cv_candidate_vol = cv_candidate_int(theta_max) - cv_candidate_int(theta_min)\n",
      "\n",
      "\"\"\"\n",
      "cv_simulation\n",
      "\n",
      "    Runs an control variate simulation/estimation of an integrand\n",
      "    \n",
      "    Args:\n",
      "        integrand:  a function or lambda function whose integral is being estimated\n",
      "        variate: function or lamba function of the control variate\n",
      "        tau: expectation of the variate over the given range\n",
      "        run_size:  the number of samples in an individual run (e.g. Nmc)\n",
      "        sim_size:  the number of runs in the simuation (e.g. Ns)\n",
      "        \n",
      "    Returns:\n",
      "        np.ndarray:  An array of the control variate integral estimates for each run\n",
      "\n",
      "\"\"\"\n",
      "def cv_simulation(integrand=heart, variate= cv_pareto, variate_vol=cv_pareto_vol, run_size = Nmc, sims=Ns):\n",
      "    \n",
      "    I2 = np.zeros(sims);\n",
      "    for i in np.arange(0,sims):   \n",
      "        theta=np.random.uniform(low = theta_min, high=theta_max,size=run_size)\n",
      "        f=integrand(theta)\n",
      "        #Control variate\n",
      "        g=variate(theta)\n",
      "        q=np.cov(f,g)\n",
      "        b= - q[0,1]/np.var(g)\n",
      "        I2[i]=(theta_max-theta_min)*(np.mean(f)+b*(np.mean(g)-variate_vol/(theta_max - theta_min)))\n",
      "    \n",
      "    return(I2)\n",
      "    \n",
      "pareto_cv_results = cv_simulation(variate=cv_pareto,variate_vol=cv_pareto_vol)\n",
      "expon_cv_results = cv_simulation(variate=ip_expon_pdf,variate_vol=1.0)\n",
      "norm_cv_results = cv_simulation(variate=ip_trunc_pdf,variate_vol=1.0)\n",
      "candidate_cv_results = cv_simulation(variate=cv_candidate, variate_vol=cv_candidate_vol)\n",
      "\n",
      "print \"Control Variate Pareto:  Mean: {}, Variance: {}\".format(np.mean(pareto_cv_results),np.var(pareto_cv_results))\n",
      "print \"Control Variate Exponential:  Mean: {}, Variance: {}\".format(np.mean(expon_cv_results),np.var(expon_cv_results))\n",
      "print \"Control Variate Normal:  Mean: {}, Variance: {}\".format(np.mean(norm_cv_results),np.var(norm_cv_results))\n",
      "print \"Control Variate Normal:  Mean: {}, Variance: {}\".format(np.mean(candidate_cv_results),np.var(candidate_cv_results))\n"
     ],
     "language": "python",
     "metadata": {},
     "outputs": [
      {
       "output_type": "stream",
       "stream": "stdout",
       "text": [
        "Control Variate Pareto:  Mean: 0.219205728014, Variance: 9.98211471375e-05\n",
        "Control Variate Exponential:  Mean: 0.221125815615, Variance: 8.35046477157e-05\n",
        "Control Variate Normal:  Mean: 0.219378551519, Variance: 0.000113124939949\n",
        "Control Variate Normal:  Mean: 0.219434599319, Variance: 6.64186215173e-05\n"
       ]
      }
     ],
     "prompt_number": 14
    },
    {
     "cell_type": "code",
     "collapsed": false,
     "input": [
      "# Plot Results\n",
      "f, ((ax1, ax2), (ax3, ax4)) = plt.subplots(2, 2)\n",
      "ax1.hist(basic_results, histtype='step', lw=.8, label=u'Monte Carlo')\n",
      "ax1.hist(expon_cv_results, histtype='step', lw=.8, label=r'Exponential')\n",
      "ax1.plot([exact_val, exact_val], [0 ,50], 'g.-', label=u'Exact Value')\n",
      "ax1.set_xlabel(r'$\\theta$')\n",
      "ax1.legend(prop={'size':8})\n",
      "\n",
      "ax2.hist(basic_results, histtype='step', lw=.8, label=u'Monte Carlo')\n",
      "ax2.hist(norm_cv_results, histtype='step', lw=.8, label=r'TruncatedNormal' )\n",
      "ax2.plot([exact_val, exact_val], [0 ,50], 'g.-', label=u'Exact Value')\n",
      "ax2.set_xlabel(r'$\\theta$')\n",
      "ax2.legend(prop={'size':8})\n",
      "\n",
      "ax3.hist(basic_results, histtype='step', lw=.8, label=u'Monte Carlo')\n",
      "ax3.hist(pareto_cv_results, histtype='step', lw=.8, label=r'Pareto')\n",
      "ax3.plot([exact_val, exact_val], [0 ,50], 'g.-', label=u'Exact Value')\n",
      "ax3.set_xlabel(r'$\\theta$')\n",
      "ax3.legend(prop={'size':8})\n",
      "\n",
      "ax4.hist(basic_results, histtype='step', lw=.8, label=u'Monte Carlo')\n",
      "ax4.hist(candidate_cv_results, histtype='step', lw=.8, label=r'$e^{-x}sin^2x$')\n",
      "ax4.plot([exact_val, exact_val], [0 ,50], 'g.-', label=u'Exact Value')\n",
      "ax4.set_xlabel(r'$\\theta$')\n",
      "ax4.legend(prop={'size':8})\n"
     ],
     "language": "python",
     "metadata": {},
     "outputs": [
      {
       "metadata": {},
       "output_type": "pyout",
       "prompt_number": 16,
       "text": [
        "<matplotlib.legend.Legend at 0x10c70dfd0>"
       ]
      },
      {
       "metadata": {},
       "output_type": "display_data",
       "png": "[encoded data removed]",
       "text": [
        "<matplotlib.figure.Figure at 0x106cdc0d0>"
       ]
      }
     ],
     "prompt_number": 16
    },
    {
     "cell_type": "markdown",
     "metadata": {},
     "source": [
      "So we're getting slight if any variance reduction over Basic Monte Carlo although we're still getting good prediction of our integral.  Our $\\heartsuit(\\theta)$ distribution is constructed so that it's unlikely we'd get signifcant variance reduction with one control variate.  We'd need a function with a know antiderivative that is sinusoidal and still tails off similar to $\\heartsuit(\\theta)$.  We tried $e^{-x}sin^2x$ as a candidate function since its antiderivative can be gotten via Integration by Parts and it's sinusoidal and still tails off.  You can see above that it gives us results a bit better than pareto but not by an order of magnitude.  If we used multiple control variates, we'd likely get much better variance reduction.  "
     ]
    },
    {
     "cell_type": "markdown",
     "metadata": {},
     "source": [
      "(d) Is it a good idea to use the antithesis method to reduce variance here? Why or why not? Could you use antithesis in combination with another method? (We're only looking for your understanding of the methods in this problem. No code required for this part). <br>\n",
      "\n",
      "For optimal variance reduction in the antithesis method, we need a monotonic integrand.  We definitely don't have one here.  Because our integrand is periodic, it's even hard to say that it's approximately monotonic.  Perhaps an argument can be made for approximate monotonicity if the number of samples one takes over the support makes it unlikely that multiple samples will be taken from within any give periodic segment.  That argument becomes very difficult as the Nmc goes higher.  In general, this integrand is not a good candidate for the antithesis method.<br>\n",
      "\n",
      "Since we have a precise notion of the periodicity of our integrand, and more to the point we can analytically define clearly monotonic regions within those periodic segments,  we can combine antithesis with stratified sampling with the antithesis method in order to get boosted variance reduction over using either method individually.  We'd need to choose our strata so they were small enough to fit within the monotonic regions of $\\heartsuit(\\theta)$.  So any strata smaller than $\\frac{\\pi}{2}$ should do."
     ]
    },
    {
     "cell_type": "heading",
     "level": 3,
     "metadata": {},
     "source": [
      "Question 2:  Bayesian Unbreak My Code (*Whitney Houston*)"
     ]
    },
    {
     "cell_type": "markdown",
     "metadata": {},
     "source": [
      "A particular digital communications sytem is known to transmit messages using the **lover's alphabet** of  Love Me's (1s) and Love Me Nots (0s).  Super secret code breakers at the UK's GCHQ have discovered by reading all love missives sent by anyone in the world that the \"letter\" Love Me is sent with a certain probability p and that p is either $\\frac{1}{3}$ or $\\frac{2}{3}$.  A junior analyst at GCHQ (a Yank on loan from the NSA) is given $4$ observations as data -- { Love Me, Love Me, Love Me Not, Love Me}.  A Bayesian, he is charged with inferring p from his observations.  What will he determine? Did \"she used to love me a lot?\" (*Johnny Cash*) <br>\n",
      "\n",
      "Please help our NSA guy by answering the following questions:\n",
      "1. What is the likelihood here?\n",
      "1. How do you define the prior?\n",
      "1. Given the above, what is the posterior for the problem?  *Hint, we are looking for two numbers.*\n",
      "1. Which p is more likely given this posterior?"
     ]
    },
    {
     "cell_type": "markdown",
     "metadata": {},
     "source": [
      "0. Some Framing\n",
      "\n",
      "The solution to this problem is based on simply construing the problem as an application of Bayes Theorem:\n",
      "\n",
      "$$ P(\\Theta \\textrm{ }|\\textrm{ } Data) = \\frac{P(Data \\textrm{ }|\\textrm{ } \\Theta)\\textrm{ }P(\\Theta )}{P(Data)} $$\n",
      "$$ Data \\equiv \\{ Love\\textrm{ }Me,\\textrm{ }Love\\textrm{ }Me,\\textrm{ }Love\\textrm{ } Me\\textrm{ }Not,\\textrm{ }Love\\textrm{ }Me\\}$$\n",
      "$$ \\Theta \\equiv \\{p = \\frac{1}{3},\\textrm{ }p = \\frac{2}{3}\\}$$"
     ]
    },
    {
     "cell_type": "markdown",
     "metadata": {},
     "source": [
      "1. What is the likelihood here?\n",
      "\n",
      "There are two different interpretations for formulations of the likelihood.  The problem gives $4$ observations or as data -- { Love Me, Love Me, Love Me Not, Love Me}.  Since the framing of this problem is a digital communications system that transmits messages, one can assume that order is important in the data in which case the appropriate likelihood is $p^j(1-p)^{n-j}$ where $j$ is the number of Love Me's, $n$ is the total number of messages (either Love Me or Love Me Not) and thus $n-j$ is the number of Love Me Nots.  In our particular example, the likelihood $P(Data \\textrm{ }|\\textrm{ } \\Theta = p)\\equiv p^3(1-p)^1$.\n",
      "\n",
      "Another interpretation is that the order of the message is unimportant.  In this case the likelihood is a binomial and has a slightly different definition $P(Data \\textrm{ }|\\textrm{ } \\Theta = p)\\equiv \\binom{4}{3}p^3(1-p)^1$.  \n",
      "\n",
      "It turns out that which interpretation you choose has no effect on the posterior probability (which makes sense as they differ only by a constant)."
     ]
    },
    {
     "cell_type": "markdown",
     "metadata": {},
     "source": [
      "2. How do you define the prior?\n",
      "\n",
      "From the problem, we're given that $\\Theta$ has a *support* of {1/3, 2/3} (i.e. that the only possible values for p are 1/3 or 2/3), so any prior we specify should be defined only over that domain.  A natural definition for the prior is a $Bernoulli(k)$ where we define k as our choice for the probability that p = 1/3.  We're not given much information in the problem, so a natural choice for k is 1/2 (i.e an uninformed prior).  If you believe love is dominant in the universe and that Love Me messages should occur at a higher rate than Love Me Nots, then choose k to be lower than 1/2.  If you're a love pessimist and believe most messages are break-up messages consisting of Love Me Nots, then choose k to be higher than 1/2.  We will be uninformed and let the data speak for itself (and thus choose k to be exactly 1/2.\n",
      "\n",
      "$$ P(\\Theta) \\sim Bernoulli(\\frac{1}{2})$$\n",
      "$$ \\implies P(\\Theta) = \\left\\{\n",
      "\\begin{array}{ll}\n",
      "      \\frac{1}{2}, & p=\\frac{1}{3} \\\\\n",
      "      \\frac{1}{2}, & p=\\frac{2}{3} \\\\\n",
      "\\end{array} \n",
      "\\right.$$"
     ]
    },
    {
     "cell_type": "markdown",
     "metadata": {},
     "source": [
      "3. Given the above, what is the posterior for the problem?  *Hint, we are looking for two numbers.*\n",
      "\n",
      "Using Bayes rule, we know that our posterior probability is  \n",
      "\n",
      "$$ P(\\Theta \\textrm{ }|\\textrm{ } Data) = \\frac{P(Data \\textrm{ }|\\textrm{ } \\Theta)\\textrm{ }P(\\Theta )}{P(Data)} $$\n",
      "\n",
      "Let's choose the binomial likelihood (asserting that order of the messages doesn't matter).\n",
      "$$\\begin{align*}\n",
      "P(Data \\textrm{ }|\\textrm{ } p = 1/3)P(p= 1/3) &= \\binom{4}{3}p^3(1-p)^1k =4 (\\frac{1}{3})^3(\\frac{2}{3})^1\\frac{1}{2} = \\frac{4}{81}\\\\\n",
      "P(Data \\textrm{ }|\\textrm{ } p = 2/3)P(p= 2/3) &= \\binom{4}{3}p^3(1-p)^1(1-k) = 4 (\\frac{2}{3})^3(\\frac{1}{3})^1\\frac{1}{2} = \\frac{16}{81}\\\\\n",
      "P(Data) &= \\sum P(Data \\textrm{ }|\\textrm{ }\\Theta)P(Theta) = \\frac{4}{81} + \\frac{16}{81} = \\frac{20}{81} \\\\\n",
      "\\end{align*}$$\n",
      "\n",
      "So our posterior probability density $P(\\Theta \\textrm{ }|\\textrm{ } Data) = \\{1/5, 4/5\\}$ where $P(p=1/3\\textrm{ } |\\textrm{ } Data) = 1/5$ and $P(p=2/3\\textrm{ } |\\textrm{ } Data) = 4/5$.\n",
      "\n",
      "If we'd chosen the other likelihood (where order does matter), we'd be able to remove the factor of 4 from both likelihood and evidence and we'd have the same posterior probability distribution.\n",
      "\n",
      "\n"
     ]
    },
    {
     "cell_type": "markdown",
     "metadata": {},
     "source": [
      "4. Which p is more likely given this posterior?\n",
      "\n",
      "Based on our posterior distribution, we see that p=2/3 is most likely.  Since we had more Love Me's than Love Me Nots in our data, we should not be surprised by this conclusion."
     ]
    },
    {
     "cell_type": "code",
     "collapsed": false,
     "input": [],
     "language": "python",
     "metadata": {},
     "outputs": [],
     "prompt_number": 11
    }
   ],
   "metadata": {}
  }
 ]
}