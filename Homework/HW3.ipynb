{
 "metadata": {
  "name": "",
  "signature": "sha256:c3a3c7d6cac6ea43c06698e4767395fe32aa936290f67b305471de3033c06c58"
 },
 "nbformat": 3,
 "nbformat_minor": 0,
 "worksheets": [
  {
   "cells": [
    {
     "cell_type": "heading",
     "level": 1,
     "metadata": {},
     "source": [
      "**AM 207**: Homework 3"
     ]
    },
    {
     "cell_type": "markdown",
     "metadata": {},
     "source": [
      "Verena Kaynig-Fittkau & Pavlos Protopapas <br>\n",
      "Handed out: Thursday, February 19th, 2015<br>\n",
      "Due: 11.59 P.M. Wednesday February 25th, 2015\n",
      "\n",
      "**Instructions**:\n",
      "\n",
      "+ Upload your answers in an ipython notebook to the dropbox.\n",
      "\n",
      "+ Your individual submissions use the following filenames: AM207_YOURNAME_HM3.ipynb\n",
      "\n",
      "+ Your code should be in code cells as part of your ipython notebook. Do not use a different language (or format) unless you get permission from the TFs. If you use any special libraries you must include them with your code (program should run as is). \n",
      "\n",
      "+ If you have multiple files (e.g. you've added code files and images) create a tarball for all files in a single file and name it: AM207_YOURNAME_HM3.tar or AM207_YOURNAME_HM3.zip\n",
      "\n",
      "+ Please remember that your solution should be a **report**! We would like some explanations of your ideas, and ways to approach the solution. Also please comment your code."
     ]
    },
    {
     "cell_type": "heading",
     "level": 3,
     "metadata": {},
     "source": [
      "Question 1: Learn how to launch space rockets"
     ]
    },
    {
     "cell_type": "markdown",
     "metadata": {},
     "source": [
      "In 1986, the space shuttle Challenger exploded during take off,\n",
      "killing the seven astronauts aboard. It is believed that the\n",
      "explosion was caused by the failure of an O-ring (a rubber ring that\n",
      "seals parts of the solid fuel rockets together), and that the\n",
      "failure was caused by the cold weather at the time of launch (31F).\n",
      "\n",
      "In the file <a href=\"./files/chall.txt\">chall.txt</a>, you will find temperature (in\n",
      "Fahrenheit) and failure data from 23 shuttle launches, where 1\n",
      "stands for O-ring failure and 0 no failure.  We assume that the\n",
      "observed temperatures are fixed and that, at temperature $t$, an\n",
      "O-ring fails with probability $f(\\theta_{1}+\\theta_{2}t)$\n",
      "conditionally on $\\Theta = (\\theta_1, \\theta_2)$.\n",
      "\n",
      "Here, $f(z) = 1/(1 + \\exp(-z))$ is the logistic function.\n",
      "\n",
      "(a) Based on your own common sense knowledge, suggest a prior distribution for the regression parameters ($\\theta_1, \\theta_2$), and explain your choice of prior. <br>\n",
      "\n",
      "(b) Visualize the posterior and write a script that samples from the posterior distribution of $\\Theta$ using the rejection method, and plot the result. HINT: you can use the visualization to select a sensible range for $\\theta_1$ and $\\theta_2$. <br>\n",
      "\n",
      "(c) Compute a Bayesian posterior probability for an O-ring failure at $t = 31F$. <br>"
     ]
    },
    {
     "cell_type": "heading",
     "level": 3,
     "metadata": {},
     "source": [
      "Question 2: Lensed galaxies"
     ]
    },
    {
     "cell_type": "markdown",
     "metadata": {},
     "source": [
      "You are a renowned observational astronomer working on gravitatioanl lensing and you just got news about a source whose morphology appears distorted, most likely because there is a foreground source (an ensemble of mini black holes for which you know the mass and position) acting as a lense. Your gravitational lensing calculations indicate that the detected flux $F$ from the background source as a function of right ascencion ($x$) and declination ($y$) can be described by a modified Beale's function:\n",
      "\n",
      "$F(x,y) = \\exp\\left[-\\left(\\frac{x^2}{2\\sigma_x^2}+\\frac{y^2}{2\\sigma_y^2}\\right)\\right] \\log (1.0+(1.5-x+xy)^2+(2.25-x+xy^2)^2+(2.625-x+xy^3)^2) $\n",
      "\n",
      "with $\\sigma_x = \\sigma_y = \\sqrt 10$\n",
      "\n",
      "You are interested in observing this source with the Hubble Space Telescope, and you want to simulate beforehand how photons will form the image on the Hubble detector. You realize that a good way to do this is by sampling F(x,y) with a Monte Carlo method.\n",
      "\n",
      "(a) Using the following asymmetric function as a proposal distribution:\n",
      "\n",
      "$q(x,y) = \\frac{1}{\\sqrt{2 \\pi \\gamma_1\\gamma_2}} {\\rm exp}\\left[-\\left(\\frac{(x-0.1)^2}{2 \\gamma_1^2} + \\frac{(x-0.1)^2}{2 \\gamma_2^2}\\right) \\right] $ \n",
      "\n",
      "with $\\gamma_1 = 1.0\\beta$, $\\gamma_2 = 1.5\\beta$, and $\\beta=1$ (x and y are the coordinates of the proposed step if we center the coordinate system in our current position.)\n",
      "\n",
      "construct a Metropolis-Hastings algorithm to produce $N=100,000$ samples from $F(x,y)$, starting at $(x,y) = (5,-5)$ (normally you would start at a random position). Plot the results. As you are into it, think about the following: Could you make the algorithm simpler if your proposal function was symmetric? How? What is a good burn-in factor? What do you think is the effect of using an asymmetric proposal function? \n",
      "\n",
      "(b) Experiment a little bit with $\\beta$, by running your code with $\\beta = 0.1,1.0,40.0$. Plot the accepted sample histories for each sample. What is the acceptance rate for each sample? What is the most efficient value for $\\gamma$ to select the 100,000 samples?\n",
      "\n",
      "(c) Now suppose that you are intereseted in the total flux arriving from your source, in the arbitrary units of the detector. Integrate the function $F(x,y)$ to find out. Run the integration 50 times. What is the variance of your result? Mention at least one method to reduce the variance of the integral that does not involve increasing the number of samples. Briefly explain how this method works."
     ]
    },
    {
     "cell_type": "heading",
     "level": 3,
     "metadata": {},
     "source": [
      "Question 3: Integrating nasty functions with MC"
     ]
    },
    {
     "cell_type": "markdown",
     "metadata": {},
     "source": [
      "Suppose you want to evaluate the following integral which you have failed to solve analytically despite your weekend efforts:\n",
      "\n",
      "$I=\\int_{0}^{\\infty} \\frac{x^4\\, \\sin\\left(\\sqrt{\\ln{(x+1)}}\\right)e^{-x}}{2+(x-4)^2} \\, dx $\n",
      "\n",
      "As we have seen in class, an alternative for numerical integration of such a nasty equation is to use Monte Carlo methods. In particular, we can solve $\\int_{0}^{\\infty} f(x) \\, dx$ if we can split the integrand as $f(x) = h(x)g(x)$, and then approximate the integral using:\n",
      "\n",
      "$I = \\int_{0}^{\\infty} h(x)\\,g(x) dx  \\approx \\frac{1}{N} \\sum\\limits_{i=1}^{N} h(x_i)$ where the values of $x$'s are now drawn from $g(x)$. \n",
      "\n",
      "Alternatively we can approximate the integral as \n",
      "$\\hat{I} \\approx \\frac{1}{N} \\sum\\limits_{i=1}^{N} g(x_i) $\n",
      "where the values of $x$'s are now drawn from $h(x)$.\n",
      "\n",
      "(a) What should be the properties of $g(x)$ and $h(x)$ for our MC approximation to be as accurate as possible? Can our integrand be split as a product of such functions? What part would you use as $g(x)$ and why?\n",
      "\n",
      "(b) Use $1/(2+(x-4)^2)$ as your $g(x)$ (remember that you need to normalize it). Implement a Metropolis-Hastings algorithm that has as a stationary distribution to sample from, $g(x)$.  Run the simulation 50 times for 150,000 points. Report the value of the integral $\\hat{I}$ and the VAR(${\\hat{I}}$).\n",
      "\n",
      "(c) Find a better candidate for $g(x)$ and recalculate the integral. By how much did your variance improve?"
     ]
    },
    {
     "cell_type": "code",
     "collapsed": false,
     "input": [],
     "language": "python",
     "metadata": {},
     "outputs": []
    }
   ],
   "metadata": {}
  }
 ]
}