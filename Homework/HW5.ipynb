{
 "metadata": {
  "name": "",
  "signature": "sha256:9fc697738673c0afa3fb6efc604ab7fb4ee68762090814930808387f32e145c1"
 },
 "nbformat": 3,
 "nbformat_minor": 0,
 "worksheets": [
  {
   "cells": [
    {
     "cell_type": "heading",
     "level": 1,
     "metadata": {},
     "source": [
      "**AM 207**: Homework 5"
     ]
    },
    {
     "cell_type": "markdown",
     "metadata": {},
     "source": [
      "_ _ _ _ _\n",
      "\n",
      "Verena Kaynig-Fittkau and Pavlos Protopapas  <br>\n",
      "Handed out: Wednesday, March 4th, 2015<br>\n",
      "Due: 11.59 P.M. Wednesday March 11th, 2015\n",
      "\n",
      "### Instructions:\n",
      "\n",
      "+ Upload your answers in an ipython notebook to the dropbox on iSites, you can find the link on [our homepage](http://am207.github.io/2015/).\n",
      "\n",
      "+ We will provide you imports for your ipython notebook. For the first part of this course, please do not import additional libraries.\n",
      "\n",
      "+ Your individual submissions should use the following filenames: AM207_YOURNAME_HW5.ipynb\n",
      "\n",
      "+ Your code should be in code cells as part of your ipython notebook. Do not use a different language (or format). \n",
      "\n",
      "+ Please submit your notebook in an executed status, so that we can see all the results you computed. However, we will still run your code and all cells should reproduce the output when executed. \n",
      "\n",
      "+ If you have multiple files (e.g. you've added code files or images) create a tarball for all files in a single file and name it: AM207_YOURNAME_HW5.tar.gz or AM207_YOURNAME_HW5.zip\n",
      "\n",
      "+ Please remember that your solution should be a **report**! We would like some explanations of your ideas, and ways to approach the solution. Also please comment your code. \n",
      "\n",
      "### Have Fun!\n",
      "_ _ _ _ _"
     ]
    },
    {
     "cell_type": "code",
     "collapsed": false,
     "input": [
      "import time\n",
      "import math\n",
      "import numpy as np\n",
      "import scipy\n",
      "\n",
      "%matplotlib inline\n",
      "import matplotlib.pyplot as plt\n",
      "\n",
      "# you don't have to use seaborn if you prefer plain matplotlib\n",
      "import seaborn as sns\n",
      "sns.set_style('white')\n",
      "sns.set_context('paper')"
     ],
     "language": "python",
     "metadata": {},
     "outputs": []
    },
    {
     "cell_type": "heading",
     "level": 3,
     "metadata": {},
     "source": [
      "Question 1: Warming up with a multivariate normal distribution"
     ]
    },
    {
     "cell_type": "markdown",
     "metadata": {},
     "source": [
      "Your astronomer friend working on star clusters has come up with a posterior for the probabiliy of finding a star within a cluster in position $(x,y,z)$. This posterior distribution happens to be a 3 dimensional multivariate normal with mean vector (1, 2, 3), variances each equal to 4, and an intraclass correlation\n",
      "coefficient of 1.2; that is,\n",
      "\n",
      "$$ \n",
      "p(x,y,z) \\sim  N \\left(  \n",
      "\\left[\n",
      "\\begin{array}{c}\n",
      "    1  \\\\ \n",
      "    2  \\\\ \n",
      "    3  \\\\ \n",
      "  \\end{array} \n",
      "\\right],\n",
      "\\left[\n",
      "  \\begin{array}{ccc}\n",
      "    4 & 1.2 & 1.2 \\\\ \n",
      "    1.2 & 4 & 1.2 \\\\ \n",
      "    1.2 & 1.2 & 4 \\\\  \n",
      "  \\end{array} \n",
      "  \\right] \\right)\n",
      "$$ "
     ]
    },
    {
     "cell_type": "markdown",
     "metadata": {},
     "source": [
      "He comes to you because he wants to sample from this distribution, but he suspects that there is a bug in the multivariate normal function from numpy. You quickly realize that you can help him by using a Gibbs sampler. \n",
      "\n",
      "In the following we write $X = [x,y,z]$ and $X_k$ as the vector containing $k$ compontens of $X$, and $X_{-k}$ as the vector containing all the components except for $k$. \n",
      "\n",
      "In order to find any conditional distribution $p(X_k|X_{-k})$ of a multivariate normal dsitribution with dimension k, you can partition the covariance matrix as follows:\n",
      "\n",
      "$$ \\Sigma = \\left[ \\begin{array}{cc} \\Sigma_{11} & \\Sigma_{12} \\\\ \\Sigma_{21} & \\Sigma_{22}  \\end{array} \\right] $$\n",
      "\n",
      "where $\\Sigma_{11}$ is the submatrix of the covariance matrix obtained by deleting the rows and columnns where the variances of the conditioning variables are located, $\\Sigma_{22}$ is the submatrix obtained by deleting the rows and columnns where the variances of the conditioned variables are located, and $\\Sigma_{12} = \\Sigma_{21}^T$ are the remaining matrices.\n",
      "\n",
      "For our 3 dimensional problem we get:\n",
      "\n",
      "$$\n",
      "\\Sigma = \n",
      "\\left[\n",
      "  \\begin{array}{ccc}\n",
      "    \\sigma_x^2 & \\sigma_x \\sigma_y & \\sigma_x \\sigma_z \\\\ \n",
      "    \\sigma_y \\sigma_x & \\sigma_y^2 & \\sigma_y \\sigma_z \\\\ \n",
      "    \\sigma_z \\sigma_x & \\sigma_z \\sigma_y & \\sigma_z^2 \\\\  \n",
      "  \\end{array} \n",
      "  \\right]\n",
      "$$\n",
      "\n",
      "so if we are interested in $p(x|y,z)$ we have $\\Sigma_{11} = \\left[\\sigma_x\\right], \\Sigma_{12} = \\Sigma_{21}^T = \\left[ \\sigma_x \\sigma_y \\quad \\sigma_x \\sigma_z \\right]$, and $\\Sigma_{22} = \\left[   \\begin{array}{cc}\n",
      "    \\sigma_y^2 & \\sigma_y \\sigma_z \\\\ \n",
      "    \\sigma_z \\sigma_y & \\sigma_z^2 \\\\  \n",
      "  \\end{array} \\right]$ \n",
      "\n",
      "We can do this for all three conditional distributions and because our example is so nicely symmetric we get the same sub-matrices for each of the conditionals:\n",
      "\n",
      "$$ \\Sigma_{11} = \\left[ 4 \\right] $$\n",
      "\n",
      "$$ \\Sigma_{12} = \\Sigma_{21}^T = \\left[ 1.2 \\quad 1.2 \\right] $$\n",
      "\n",
      "$$ \\Sigma_{22}= \\left[ \\begin{array}{cc} 4 & 1.2 \\\\ 1.2 & 4 \\end{array} \\right] $$"
     ]
    },
    {
     "cell_type": "markdown",
     "metadata": {},
     "source": [
      "Now we can use the standard decomposition of the multivariate normal, given below. The conditional distributions are univariate Normals with mean values given by:\n",
      "\n",
      "$$ \\hat{x} = \\mu_x + \\Sigma_{12} \\Sigma^{-1}_{22}  \\left[   \\begin{array}{cc}  y-\\mu_y \\\\ z-\\mu_z \\end{array} \\right] $$\n",
      "$$ \\hat{y} = \\mu_y + \\Sigma_{12} \\Sigma^{-1}_{22}  \\left[   \\begin{array}{cc}  x-\\mu_x \\\\ z-\\mu_z \\end{array} \\right] $$\n",
      "$$ \\hat{z} = \\mu_z + \\Sigma_{12} \\Sigma^{-1}_{22}  \\left[   \\begin{array}{cc}  x-\\mu_x \\\\ y-\\mu_y \\end{array} \\right] $$\n",
      "\n",
      "where $\\mu_x, \\mu_y, \\mu_z$ are $1,2,3$ and $\\Sigma_{ij}$ represents the elements of the covariance matrix above.\n",
      "The similarity of the expressions comes from the fact that the matrix is very symmetric. The covariance matrix\n",
      "of the conditional distributions is given by:\n",
      "\n",
      "$$ \\hat{\\Sigma} = \\Sigma_{11}-\\Sigma_{12} \\Sigma_{22}^{-1} \\Sigma_{21} $$\n",
      "\n",
      "(a) Write the Gibbs sampler for this distribution by sampling sequentially from the three conditional distributions $p(x|y,z), p(y|x,z), p(z|x,y)$. Choose a thinning parameter, burnin factor and total number of iterations that allow you to take 10000 non-autocorrelated draws. (_Hint_: Don't just give us the numbers you use, please explain how you chose them)\n",
      "\n",
      "(b) In contrast to your friend you actually do trust the multivariate normal function from numpy. As you have your Gibbs sampler now already in place you decide to give blockwise sampling a try. The idea is to sample sequentially from the conditional distributions $p(x,y|z)$ and $p(z|x,y)$. Verify that both the componentewise and the blockwise updates are leading to samples from the same distribution."
     ]
    },
    {
     "cell_type": "heading",
     "level": 3,
     "metadata": {},
     "source": [
      "Question 2: Motif finding for extraterrestrial biology"
     ]
    },
    {
     "cell_type": "markdown",
     "metadata": {},
     "source": [
      "You are a biologist who is analyzing some genetic material that astronauts collected in a nearby asteroid. The DNA of this extraterrestrial form of life is formed as a sequence of $n_B = 5$ nucleotide bases (unlike your DNA, that is made by combining only 4 nucleotides). You have named these extraterrestrial nucleotides 'F', 'R', 'L', 'A', and 'E'. NASA has given you a DNA sample consisting of $p=20$ sequences of DNA, each of them with a lenght $l=100$ nucleotide bases that you can find in <a href=\"Sequences.dat\">this file</a>. Each row of the table is a DNA string. You are asked to find a particular substring (we call it a motif) of $k = 6$ consecutive nucleotides that appears to repeat itself very often in the DNA you were given, but that appears only once in each of the sequences. You quickly realize that the problem is equivalent to maximizing the joint probability distribution $p(x_1,x_2,...,x_p)$ in a p-dimensional space that the most \"mutually similar\" motif (in this case an identical sequence of $k$ elements) starts at positions $\\left\\{x_1,x_2,...,x_p\\right\\}$ of your set of $p$ sequences. \n",
      "\n",
      "Think about this in terms of Gibbs sampling. Maybe you can find the conditional probability of the hidden motif starting at position $j$ of your *i-th* string, given the current starting positions of the $k$-subsequence in all other strings. Let us help you out:\n",
      "\n",
      "(a) Start by assigning random starting positions for the $k$-long motif in all sequences. Now exclude the first string and construct a matrix with dimension $(k+1)\\times n_B$ where, for $j$ in $[1,k+1]$, element in column $j$ and row $i$ is the number of times that the *i-th* base is in position $j$, given the current starting points of the $p-1$ remaining sequences. Add an extra column (column 0) to account for the number of times that base the *i-th* appears in the background (not inside a motif). Now calculate a probability matrix:\n",
      "\n",
      "$$\n",
      "    P[i,j]= \n",
      "\\begin{cases}\n",
      "    \\frac{C[i,j]+0.5}{p-1+0.5*n_B},& \\text{           for } j \\text{ in } [1,k+1]\\\\\n",
      "    \\frac{C[i,0]+0.5}{(l-k)*(p-1)+0.5*n_B},& \\text{           for } j = 0\n",
      "\\end{cases}\n",
      "$$\n",
      "\n",
      "where the $C[i,j]$ are the number of counts in each case. The additional term of $0.5$ is a pseudocunt added to avoid infinities. \n",
      "\n",
      "(b) Think about how you can use this probability matrix to calculate the conditional probability $p(x_j|x_1,x_2,...,x_{j-1},x_{j+1},...,x_p)$) that the hidden motif starts in position $x_j$ of the first sequence. HINT: Given the probability of bases in different positions for all other sequences, what is the probability of having the observed nucleotide bases in the current sequence and current position?\n",
      " \n",
      "(c) Construct a Gibbs sampling algorithm that, starting at random positions $\\left\\{x_1^{j},x_2^{j},...,x_p^{j}\\right\\}$ for all sequences, iterates this process over the $p=20$ different DNA sequences and generates an updated set of starting positions $\\left\\{x_1^{j+1},x_2^{j+1},...,x_p^{j+1}\\right\\}$ for the sequences, sampling from the conditional probabilities, until the updated positions converge. Provide the hidden motif and the starting positions of it in each of the sequences."
     ]
    },
    {
     "cell_type": "code",
     "collapsed": false,
     "input": [],
     "language": "python",
     "metadata": {},
     "outputs": []
    }
   ],
   "metadata": {}
  }
 ]
}